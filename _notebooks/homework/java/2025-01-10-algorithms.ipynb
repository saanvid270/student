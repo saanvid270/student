{
 "cells": [
  {
   "cell_type": "markdown",
   "id": "87f39eca",
   "metadata": {},
   "source": [
    "---\n",
    "layout: post\n",
    "title: Java Algorithm\n",
    "description: Homework on Java Algorithm\n",
    "permalink: /csa/unit_01/1_1\n",
    "author: Saanvi Dogra\n",
    "---"
   ]
  },
  {
   "cell_type": "markdown",
   "id": "1e970081",
   "metadata": {},
   "source": [
    "Hack 1\n",
    "Activity chosen: Getting ready for a basketball game  \n",
    "\n",
    "Algorithm:  \n",
    "1. Pack jersey, shorts, socks, and shoes in a sports bag  \n",
    "2. Fill water bottle and put it in the bag  \n",
    "3. Eat a light pre-game meal (like pasta or a sandwich)  \n",
    "4. Put on practice clothes and sneakers  \n",
    "5. Travel to the gym or court  \n",
    "6. Change into uniform and basketball shoes  \n",
    "7. Do warm-up stretches for at least 5 minutes  \n",
    "8. Practice layups, dribbling, and shooting before the game starts  "
   ]
  },
  {
   "cell_type": "markdown",
   "id": "d6b10152",
   "metadata": {},
   "source": [
    "Hack 2\n",
    "Corrected Algorithm: Send an Email  \n",
    "\n",
    "1. Open email application  \n",
    "2. Log into your account  \n",
    "3. Enter recipient's email address  \n",
    "4. Write subject line  \n",
    "5. Type the message  \n",
    "6. Click \"Send\"  "
   ]
  },
  {
   "cell_type": "code",
   "execution_count": null,
   "id": "599a8332",
   "metadata": {},
   "outputs": [],
   "source": [
    "\n",
    "//Hack 3\n",
    "public class GradeCalculator {\n",
    "\n",
    "    // Method to calculate grade\n",
    "    public static String calculateGrade(int score1, int score2, int score3) {\n",
    "        double average = (score1 + score2 + score3) / 3.0;\n",
    "\n",
    "        if (average >= 90) {\n",
    "            return \"A\";\n",
    "        } else if (average >= 80) {\n",
    "            return \"B\";\n",
    "        } else if (average >= 70) {\n",
    "            return \"C\";\n",
    "        } else if (average >= 60) {\n",
    "            return \"D\";\n",
    "        } else {\n",
    "            return \"F\";\n",
    "        }\n",
    "    }\n",
    "\n",
    "    // Main method to test\n",
    "    public static void main(String[] args) {\n",
    "        System.out.println(\"Test 1: \" + calculateGrade(95, 92, 88)); // A\n",
    "        System.out.println(\"Test 2: \" + calculateGrade(85, 80, 82)); // B\n",
    "        System.out.println(\"Test 3: \" + calculateGrade(75, 70, 72)); // C\n",
    "        System.out.println(\"Test 4: \" + calculateGrade(65, 60, 62)); // D\n",
    "        System.out.println(\"Test 5: \" + calculateGrade(55, 50, 52)); // F\n",
    "    }\n",
    "}\n"
   ]
  }
 ],
 "metadata": {
  "kernelspec": {
   "display_name": "Java",
   "language": "java",
   "name": "java"
  },
  "language_info": {
   "codemirror_mode": "java",
   "file_extension": ".jshell",
   "mimetype": "text/x-java-source",
   "name": "java",
   "pygments_lexer": "java",
   "version": "17.0.16+8-Ubuntu-0ubuntu124.04.1"
  }
 },
 "nbformat": 4,
 "nbformat_minor": 5
}
