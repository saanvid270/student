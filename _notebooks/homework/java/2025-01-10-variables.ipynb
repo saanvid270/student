{
 "cells": [
  {
   "cell_type": "markdown",
   "id": "58f1402c",
   "metadata": {},
   "source": [
    "---\n",
    "layout: post\n",
    "title: Java Variable\n",
    "description: Homework on Java Variable\n",
    "permalink: /csa/unit_01/lesson2\n",
    "author: Saanvi Dogra\n",
    "---"
   ]
  },
  {
   "cell_type": "markdown",
   "id": "7c21fb49",
   "metadata": {},
   "source": [
    "# This is my markdown lesson hw on variables"
   ]
  },
  {
   "cell_type": "code",
   "execution_count": 1,
   "id": "c99bb5c6",
   "metadata": {
    "vscode": {
     "languageId": "java"
    }
   },
   "outputs": [
    {
     "name": "stdout",
     "output_type": "stream",
     "text": [
      "Favorite food: Pasta\n",
      "Age: 17\n",
      "Height: 5.5 feet\n",
      "Likes pizza: true\n",
      "Favorite color starts with: P\n",
      "Born in: 2008\n"
     ]
    }
   ],
   "source": [
    "// Hack 1\n",
    "public class MyFavoriteThings {\n",
    "    public static void main(String[] args) {\n",
    "        String favoriteFood = \"Pasta\";\n",
    "        int myAge = 17;\n",
    "        double heightInFeet = 5.5;\n",
    "        boolean likesPizza = true;\n",
    "        char colorFirstLetter = 'P';\n",
    "        final int BIRTH_YEAR = 2008;\n",
    "\n",
    "        System.out.println(\"Favorite food: \" + favoriteFood);\n",
    "        System.out.println(\"Age: \" + myAge);\n",
    "        System.out.println(\"Height: \" + heightInFeet + \" feet\");\n",
    "        System.out.println(\"Likes pizza: \" + likesPizza);\n",
    "        System.out.println(\"Favorite color starts with: \" + colorFirstLetter);\n",
    "        System.out.println(\"Born in: \" + BIRTH_YEAR);\n",
    "    }\n",
    "}\n",
    "\n",
    "MyFavoriteThings.main(null);"
   ]
  },
  {
   "cell_type": "code",
   "execution_count": 2,
   "id": "f17e91ec",
   "metadata": {
    "vscode": {
     "languageId": "java"
    }
   },
   "outputs": [
    {
     "name": "stdout",
     "output_type": "stream",
     "text": [
      "Siblings: 1\n",
      "Name: Saanvi\n",
      "Hungry: true\n",
      "Favorite letter: S\n",
      "Height: 66.0 inches\n",
      "Days per year: 365\n"
     ]
    }
   ],
   "source": [
    " // Hack 2\n",
    "public class PickTheType {\n",
    "    public static void main(String[] args) {\n",
    "        int siblings = 1;\n",
    "        String firstName = \"Saanvi\";\n",
    "        \n",
    "        boolean isHungry = true;\n",
    "        \n",
    "        char favoriteLetter = 'S';\n",
    "        \n",
    "        double heightInches = 66;\n",
    "        \n",
    "        final int DAYS_IN_YEAR = 365;\n",
    "        \n",
    "        System.out.println(\"Siblings: \" + siblings);\n",
    "        System.out.println(\"Name: \" + firstName);\n",
    "        System.out.println(\"Hungry: \" + isHungry);\n",
    "        System.out.println(\"Favorite letter: \" + favoriteLetter);\n",
    "        System.out.println(\"Height: \" + heightInches + \" inches\");\n",
    "        System.out.println(\"Days per year: \" + DAYS_IN_YEAR);\n",
    "    }\n",
    "}\n",
    "\n",
    "PickTheType.main(null);\n"
   ]
  },
  {
   "cell_type": "code",
   "execution_count": 2,
   "id": "39e36b69",
   "metadata": {
    "vscode": {
     "languageId": "java"
    }
   },
   "outputs": [
    {
     "name": "stdout",
     "output_type": "stream",
     "text": [
      "=== Grade Summary ===\n",
      "Student: Alex\n",
      "Class: Biology\n",
      "Test Scores: 85, 90, 78\n",
      "Average: 84.33333333333333\n",
      "Letter Grade: B\n"
     ]
    }
   ],
   "source": [
    "public class GradeCalculator {\n",
    "    public static void main(String[] args) {\n",
    "        // Final variables (never change)\n",
    "        final String STUDENT_NAME = \"Alex\"; \n",
    "        final String CLASS_NAME = \"Biology\";\n",
    "\n",
    "        // Test scores (whole numbers 0-100)\n",
    "        int test1 = 85;\n",
    "        int test2 = 90;\n",
    "        int test3 = 78;\n",
    "\n",
    "        // Calculate average\n",
    "        double average = (test1 + test2 + test3) / 3.0;\n",
    "\n",
    "        // Determine letter grade\n",
    "        char grade;\n",
    "        if (average >= 90) {\n",
    "            grade = 'A';\n",
    "        } else if (average >= 80) {\n",
    "            grade = 'B';\n",
    "        } else if (average >= 70) {\n",
    "            grade = 'C';\n",
    "        } else if (average >= 60) {\n",
    "            grade = 'D';\n",
    "        } else {\n",
    "            grade = 'F';\n",
    "        }\n",
    "\n",
    "        // Summary\n",
    "        System.out.println(\"=== Grade Summary ===\");\n",
    "        System.out.println(\"Student: \" + STUDENT_NAME);\n",
    "        System.out.println(\"Class: \" + CLASS_NAME);\n",
    "        System.out.println(\"Test Scores: \" + test1 + \", \" + test2 + \", \" + test3);\n",
    "        System.out.println(\"Average: \" + average);\n",
    "        System.out.println(\"Letter Grade: \" + grade);\n",
    "    }\n",
    "}\n",
    "GradeCalculator.main(null);\n"
   ]
  },
  {
   "cell_type": "markdown",
   "id": "8ce9397b",
   "metadata": {},
   "source": []
  }
 ],
 "metadata": {
  "kernelspec": {
   "display_name": "Java",
   "language": "java",
   "name": "java"
  },
  "language_info": {
   "codemirror_mode": "java",
   "file_extension": ".jshell",
   "mimetype": "text/x-java-source",
   "name": "Java",
   "pygments_lexer": "java",
   "version": "17.0.16+8-Ubuntu-0ubuntu124.04.1"
  }
 },
 "nbformat": 4,
 "nbformat_minor": 5
}
