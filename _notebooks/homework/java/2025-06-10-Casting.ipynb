{
 "cells": [
  {
   "cell_type": "markdown",
   "id": "58f1402c",
   "metadata": {},
   "source": [
    "---\n",
    "layout: post\n",
    "title: Java Casting\n",
    "description: Homework on Java Casting\n",
    "permalink: /csa/unit_01/1_5\n",
    "author: Saanvi Dogra\n",
    "---"
   ]
  },
  {
   "cell_type": "code",
   "execution_count": 4,
   "id": "c99bb5c6",
   "metadata": {},
   "outputs": [
    {
     "data": {
      "text/plain": [
       "3.5"
      ]
     },
     "execution_count": 4,
     "metadata": {},
     "output_type": "execute_result"
    }
   ],
   "source": [
    "//FRQ 1\n",
    "public static double avgInt(int a, int b) {\n",
    "    return (a + b) / 2.0;\n",
    "}\n",
    "avgInt(3, 4);"
   ]
  },
  {
   "cell_type": "code",
   "execution_count": 5,
   "id": "f17e91ec",
   "metadata": {},
   "outputs": [
    {
     "data": {
      "text/plain": [
       "75.0"
      ]
     },
     "execution_count": 5,
     "metadata": {},
     "output_type": "execute_result"
    }
   ],
   "source": [
    "//FRQ 2\n",
    "public static double percent(int correct, int total) {\n",
    "    if (total == 0) return 0.0;  // avoid divide-by-zero\n",
    "    return (correct * 100.0) / total;\n",
    "}\n",
    "percent(3, 4);\n"
   ]
  },
  {
   "cell_type": "code",
   "execution_count": 6,
   "id": "c82ec30b",
   "metadata": {},
   "outputs": [
    {
     "data": {
      "text/plain": [
       "3"
      ]
     },
     "execution_count": 6,
     "metadata": {},
     "output_type": "execute_result"
    }
   ],
   "source": [
    "//FRQ 3\n",
    "public static int safeMod(int a, int b) {\n",
    "    if (b == 0) return 0;\n",
    "    return a % b;\n",
    "}\n",
    "safeMod(3, 4);"
   ]
  },
  {
   "cell_type": "markdown",
   "id": "8ce9397b",
   "metadata": {},
   "source": []
  }
 ],
 "metadata": {
  "kernelspec": {
   "display_name": "Java",
   "language": "java",
   "name": "java"
  },
  "language_info": {
   "codemirror_mode": "java",
   "file_extension": ".jshell",
   "mimetype": "text/x-java-source",
   "name": "java",
   "pygments_lexer": "java",
   "version": "17.0.16+8-Ubuntu-0ubuntu124.04.1"
  }
 },
 "nbformat": 4,
 "nbformat_minor": 5
}
