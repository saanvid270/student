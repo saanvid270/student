{
 "cells": [
  {
   "cell_type": "markdown",
   "id": "58f1402c",
   "metadata": {},
   "source": [
    "---\n",
    "layout: post\n",
    "title: Java Operators\n",
    "description: Homework on Java Operators\n",
    "permalink: /csa/unit_01/1_6\n",
    "author: Saanvi Dogra\n",
    "---"
   ]
  },
  {
   "cell_type": "code",
   "execution_count": 3,
   "id": "61dd15a8",
   "metadata": {},
   "outputs": [
    {
     "data": {
      "text/plain": [
       "68"
      ]
     },
     "execution_count": 3,
     "metadata": {},
     "output_type": "execute_result"
    }
   ],
   "source": [
    "// Popcorn Hack 1\n",
    "int playerScore = 1000;\n",
    "int playerHealth = 100;\n",
    "int enemiesDefeated = 0;\n",
    "\n",
    "// Player defeats an enemy worth 250 points\n",
    "playerScore += 250;\n",
    "\n",
    "// Player takes 15 damage\n",
    "playerHealth -= 15;\n",
    "\n",
    "// Enemy count goes up\n",
    "enemiesDefeated++;\n",
    "\n",
    "// Boss battle: double the current score!\n",
    "playerScore *= 2;\n",
    "\n",
    "// Healing potion restores health to 80% of current\n",
    "playerHealth *= 4;\n",
    "playerHealth /= 5;  // integer math for 80%\n"
   ]
  },
  {
   "cell_type": "code",
   "execution_count": 1,
   "id": "f262adc9",
   "metadata": {},
   "outputs": [
    {
     "name": "stdout",
     "output_type": "stream",
     "text": [
      "Starting score: 100\n",
      "After wrong answer: 70\n",
      "After power-up: 140\n",
      "Remainder after dividing by 7: 0\n"
     ]
    }
   ],
   "source": [
    "// Popcorn Hack 2\n",
    "public class PopcornHack2 {\n",
    "  public static void main(String[] args) {\n",
    "    int score = 100;\n",
    "    System.out.println(\"Starting score: \" + score);\n",
    "\n",
    "    // Deduct 30 points for a wrong answer\n",
    "    score -= 30;\n",
    "    System.out.println(\"After wrong answer: \" + score);\n",
    "\n",
    "    // Double the score with a power-up\n",
    "    score *= 2;\n",
    "    System.out.println(\"After power-up: \" + score);\n",
    "\n",
    "    // Find remainder after dividing by 7\n",
    "    score %= 7;\n",
    "    System.out.println(\"Remainder after dividing by 7: \" + score);\n",
    "  }\n",
    "}\n",
    "PopcornHack2.main(null);"
   ]
  },
  {
   "cell_type": "code",
   "execution_count": 2,
   "id": "f17e91ec",
   "metadata": {},
   "outputs": [
    {
     "name": "stdout",
     "output_type": "stream",
     "text": [
      "=== Starting Stats ===\n",
      "Followers: 500\n",
      "Posts: 10\n",
      "Engagement: 200\n",
      "Sponsorship Earnings: $150.0\n",
      "\n",
      "A viral post boosts your stats!\n",
      "Followers: 1500\n",
      "Engagement: 400\n",
      "Sponsorship Earnings: $350.0\n",
      "\n",
      "A controversial post causes a small drop...\n",
      "Followers: 1450\n",
      "Engagement: 300\n",
      "\n",
      "Average engagement per post: 25.0\n",
      "\n",
      "Current ranking position in your niche: 50\n",
      "New sponsorship bonus added!\n",
      "Total Earnings: $362.5\n"
     ]
    }
   ],
   "source": [
    "public class CreatorJourney {\n",
    "    public static void main(String[] args) {\n",
    "\n",
    "        // Starting stats\n",
    "        int followers = 500;             // initial followers\n",
    "        int posts = 10;                  // number of posts made\n",
    "        int engagement = 200;            // total likes/comments\n",
    "        double sponsorshipEarnings = 150.0;  // in dollars\n",
    "\n",
    "        System.out.println(\"=== Starting Stats ===\");\n",
    "        System.out.println(\"Followers: \" + followers);\n",
    "        System.out.println(\"Posts: \" + posts);\n",
    "        System.out.println(\"Engagement: \" + engagement);\n",
    "        System.out.println(\"Sponsorship Earnings: $\" + sponsorshipEarnings);\n",
    "        System.out.println();\n",
    "\n",
    "        // Event 1: Viral post\n",
    "        followers += 1000;\n",
    "        engagement *= 2;  // engagement doubles due to trend\n",
    "        posts++;\n",
    "        sponsorshipEarnings += 200.0;\n",
    "        System.out.println(\"A viral post boosts your stats!\");\n",
    "        System.out.println(\"Followers: \" + followers);\n",
    "        System.out.println(\"Engagement: \" + engagement);\n",
    "        System.out.println(\"Sponsorship Earnings: $\" + sponsorshipEarnings);\n",
    "        System.out.println();\n",
    "\n",
    "        // Event 2: Controversial post\n",
    "        followers -= 50;\n",
    "        engagement -= 100;\n",
    "        posts++;\n",
    "        System.out.println(\"A controversial post causes a small drop...\");\n",
    "        System.out.println(\"Followers: \" + followers);\n",
    "        System.out.println(\"Engagement: \" + engagement);\n",
    "        System.out.println();\n",
    "\n",
    "        // Event 3: Calculate average engagement per post\n",
    "        double avgEngagement = (double) engagement / posts;\n",
    "        System.out.println(\"Average engagement per post: \" + avgEngagement);\n",
    "        System.out.println();\n",
    "\n",
    "        // Event 4: Compute ranking position (example)\n",
    "        int position = followers % 100;\n",
    "        System.out.println(\"Current ranking position in your niche: \" + position);\n",
    "\n",
    "        // Event 5: Bonus sponsorship\n",
    "        sponsorshipEarnings += avgEngagement * 0.5;\n",
    "        System.out.println(\"New sponsorship bonus added!\");\n",
    "        System.out.println(\"Total Earnings: $\" + sponsorshipEarnings);\n",
    "    }\n",
    "}\n",
    "\n",
    "CreatorJourney.main(null);\n"
   ]
  },
  {
   "cell_type": "markdown",
   "id": "8ce9397b",
   "metadata": {},
   "source": []
  }
 ],
 "metadata": {
  "kernelspec": {
   "display_name": "Java",
   "language": "java",
   "name": "java"
  },
  "language_info": {
   "codemirror_mode": "java",
   "file_extension": ".jshell",
   "mimetype": "text/x-java-source",
   "name": "java",
   "pygments_lexer": "java",
   "version": "17.0.16+8-Ubuntu-0ubuntu124.04.1"
  }
 },
 "nbformat": 4,
 "nbformat_minor": 5
}
