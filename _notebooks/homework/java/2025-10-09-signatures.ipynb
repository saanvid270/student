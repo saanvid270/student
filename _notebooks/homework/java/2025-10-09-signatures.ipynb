{
 "cells": [
  {
   "cell_type": "markdown",
   "id": "58f1402c",
   "metadata": {},
   "source": [
    "---\n",
    "layout: post\n",
    "title: Java Signatures\n",
    "description: Homework on Java Signatures\n",
    "permalink: /csa/unit_01/1_9\n",
    "author: Saanvi Dogra\n",
    "---"
   ]
  },
  {
   "cell_type": "code",
   "execution_count": 1,
   "id": "81784bef",
   "metadata": {
    "vscode": {
     "languageId": "java"
    }
   },
   "outputs": [
    {
     "name": "stdout",
     "output_type": "stream",
     "text": [
      "int:5\n",
      "long:5\n",
      "double:5.0\n",
      "int:7\n",
      "long:7\n",
      "double:7.0\n"
     ]
    }
   ],
   "source": [
    "//Example\n",
    "public class OverloadPick {\n",
    "    static void show(int x)    { System.out.println(\"int:\" + x); }\n",
    "    static void show(double x) { System.out.println(\"double:\" + x); }\n",
    "    static void show(long x)   { System.out.println(\"long:\" + x); }\n",
    "\n",
    "    public static void main(String[] args) {\n",
    "        show(5);     // int literal → show(int)\n",
    "        show(5L);    // long literal → show(long)\n",
    "        show(5.0);   // double literal → show(double)\n",
    "        int i = 7; long L = 7L; double d = 7.0;\n",
    "        show(i); show(L); show(d);\n",
    "    }\n",
    "}\n",
    "OverloadPick.main(null);"
   ]
  },
  {
   "cell_type": "code",
   "execution_count": 2,
   "id": "cee5a9ab",
   "metadata": {
    "vscode": {
     "languageId": "java"
    }
   },
   "outputs": [
    {
     "name": "stdout",
     "output_type": "stream",
     "text": [
      "15\n",
      "28.274333882308138\n",
      "12\n",
      "45/50\n",
      "92.4%\n"
     ]
    }
   ],
   "source": [
    "//FRQ Template\n",
    "public class FrqTemplates {\n",
    "    // FRQ 1: Sum all integers from start to end (inclusive)\n",
    "    public static int sumRange(int start, int end) {\n",
    "        if (start > end) return 0;\n",
    "        int sum = 0;\n",
    "        for (int n = start; n <= end; n++) {\n",
    "            sum += n;\n",
    "        }\n",
    "        return sum;\n",
    "    }\n",
    "\n",
    "    // FRQ 2: Overload area for circle vs. rectangle\n",
    "    public static double area(double radius) {\n",
    "        return Math.PI * radius * radius;\n",
    "    }\n",
    "    public static int area(int width, int height) {\n",
    "        return width * height;\n",
    "    }\n",
    "\n",
    "    // FRQ 3: Overload formatScore for fraction vs. percent\n",
    "    public static String formatScore(int earned, int total) {\n",
    "        return earned + \"/\" + total;\n",
    "    }\n",
    "    public static String formatScore(double percent) {\n",
    "        return String.format(\"%.1f%%\", percent);\n",
    "    }\n",
    "\n",
    "    public static void main(String[] args) {\n",
    "        System.out.println(sumRange(1, 5));      // 15\n",
    "        System.out.println(area(3.0));           // ~28.274333882308138\n",
    "        System.out.println(area(3, 4));          // 12\n",
    "        System.out.println(formatScore(45, 50)); // 45/50\n",
    "        System.out.println(formatScore(92.35));  // 92.4%\n",
    "    }\n",
    "}\n",
    "FrqTemplates.main(null);"
   ]
  },
  {
   "cell_type": "code",
   "execution_count": 3,
   "id": "61dd15a8",
   "metadata": {
    "vscode": {
     "languageId": "java"
    }
   },
   "outputs": [
    {
     "name": "stdout",
     "output_type": "stream",
     "text": [
      "9\n",
      "-2\n",
      "3.5\n",
      "2.0\n"
     ]
    }
   ],
   "source": [
    "// Popcorn Hack 1\n",
    "public class PopcornMax {\n",
    "    // int overload\n",
    "    public static int max(int a, int b) {\n",
    "        return a >= b ? a : b;\n",
    "    }\n",
    "\n",
    "    // double overload\n",
    "    public static double max(double a, double b) {\n",
    "        return a >= b ? a : b;\n",
    "    }\n",
    "\n",
    "    public static void main(String[] args) {\n",
    "        System.out.println(max(3, 9));      // 9\n",
    "        System.out.println(max(-2, -7));    // -2\n",
    "        System.out.println(max(3.5, 2.9));  // 3.5\n",
    "        System.out.println(max(2, 2.0));    // 2.0  (int 2 promoted to double → calls max(double,double))\n",
    "    }\n",
    "}\n",
    "PopcornMax.main(null);"
   ]
  },
  {
   "cell_type": "code",
   "execution_count": 4,
   "id": "f262adc9",
   "metadata": {
    "vscode": {
     "languageId": "java"
    }
   },
   "outputs": [
    {
     "name": "stdout",
     "output_type": "stream",
     "text": [
      "int:42\n",
      "str:hello\n",
      "str:A!\n"
     ]
    }
   ],
   "source": [
    "// Popcorn Hack 2\n",
    "public class PopcornPrint {\n",
    "    static void print(int n) {\n",
    "        System.out.println(\"int:\" + n);\n",
    "    }\n",
    "\n",
    "    static void print(String s) {\n",
    "        System.out.println(\"str:\" + s);\n",
    "    }\n",
    "\n",
    "    public static void main(String[] args) {\n",
    "        print(42);          // int:42\n",
    "        print(\"hello\");     // str:hello\n",
    "        print('A' + \"!\");   // str:A!\n",
    "    }\n",
    "}\n",
    "PopcornPrint.main(null);"
   ]
  },
  {
   "cell_type": "markdown",
   "id": "8ce9397b",
   "metadata": {},
   "source": []
  },
  {
   "cell_type": "markdown",
   "id": "14e4087a",
   "metadata": {},
   "source": [
    "Short Answer\n",
    "A: Because their parameter lists are identical, and overloading depends only on parameter types—not on return types.\n",
    "\n",
    "B: Parameters are variables in a method’s definition; arguments are actual values passed to the method when it’s called.\n",
    "\n"
   ]
  },
  {
   "cell_type": "code",
   "execution_count": 10,
   "id": "bd0fa2c4",
   "metadata": {
    "vscode": {
     "languageId": "java"
    }
   },
   "outputs": [
    {
     "name": "stdout",
     "output_type": "stream",
     "text": [
      "abs(-5) = 5\n",
      "abs(-3.14) = 3.14\n",
      "abs(-100L) = 100\n",
      "concat(\"Hi\", \"There\") = HiThere\n",
      "concat(\"Hi\", 3) = HiHiHi\n",
      "int\n",
      "long\n",
      "double\n"
     ]
    }
   ],
   "source": [
    "//Coding Task\n",
    "// ---------------------------\n",
    "// Method Overloading Practice\n",
    "// ---------------------------\n",
    "// Includes:\n",
    "// 1) Three overloads of abs()\n",
    "// 2) Two overloads of concat()\n",
    "// 3) Three overloads of show() with explanation comments\n",
    "// ---------------------------\n",
    "\n",
    "public class OverloadPractice {\n",
    "\n",
    "    // 1) abs() overloads\n",
    "    int abs(int x) {\n",
    "        // Returns the absolute value of an integer\n",
    "        return x < 0 ? -x : x;\n",
    "    }\n",
    "\n",
    "    double abs(double x) {\n",
    "        // Returns the absolute value of a double\n",
    "        return x < 0 ? -x : x;\n",
    "    }\n",
    "\n",
    "    long abs(long x) {\n",
    "        // Returns the absolute value of a long\n",
    "        return x < 0 ? -x : x;\n",
    "    }\n",
    "\n",
    "    // 2) concat() overloads\n",
    "    String concat(String a, String b) {\n",
    "        // Returns concatenation of two strings\n",
    "        return a + b;\n",
    "    }\n",
    "\n",
    "    String concat(String a, int n) {\n",
    "        // Returns the string a repeated n times\n",
    "        String result = \"\";\n",
    "        for (int i = 0; i < n; i++) {\n",
    "            result += a;\n",
    "        }\n",
    "        return result;\n",
    "    }\n",
    "\n",
    "    // 3) show() overloads\n",
    "    static void show(int x) {\n",
    "        System.out.println(\"int\");\n",
    "        // Expected output: int\n",
    "        // Explanation: 7 is an int literal, so show(int) is called.\n",
    "    }\n",
    "\n",
    "    static void show(double x) {\n",
    "        System.out.println(\"double\");\n",
    "        // Expected output: double\n",
    "        // Explanation: 7.0 is a double literal, so show(double) is called.\n",
    "    }\n",
    "\n",
    "    static void show(long x) {\n",
    "        System.out.println(\"long\");\n",
    "        // Expected output: long\n",
    "        // Explanation: 7L is a long literal, so show(long) is called.\n",
    "    }\n",
    "\n",
    "    // Main method to test everything\n",
    "    public static void main(String[] args) {\n",
    "        // ---- abs() tests ----\n",
    "        OverloadPractice obj = new OverloadPractice();\n",
    "        System.out.println(\"abs(-5) = \" + obj.abs(-5));        // Expected: 5\n",
    "        System.out.println(\"abs(-3.14) = \" + obj.abs(-3.14));  // Expected: 3.14\n",
    "        System.out.println(\"abs(-100L) = \" + obj.abs(-100L));  // Expected: 100\n",
    "\n",
    "        // ---- concat() tests ----\n",
    "        System.out.println(\"concat(\\\"Hi\\\", \\\"There\\\") = \" + obj.concat(\"Hi\", \"There\")); // Expected: HiThere\n",
    "        System.out.println(\"concat(\\\"Hi\\\", 3) = \" + obj.concat(\"Hi\", 3));               // Expected: HiHiHi\n",
    "\n",
    "        // ---- show() tests ----\n",
    "        show(7);    // prints \"int\" → 7 is an int literal\n",
    "        show(7L);   // prints \"long\" → 7L is a long literal\n",
    "        show(7.0);  // prints \"double\" → 7.0 is a double literal\n",
    "    }\n",
    "}\n",
    "OverloadPractice.main(null);"
   ]
  },
  {
   "cell_type": "code",
   "execution_count": 8,
   "id": "2d60ef08",
   "metadata": {
    "vscode": {
     "languageId": "java"
    }
   },
   "outputs": [
    {
     "name": "stdout",
     "output_type": "stream",
     "text": [
      "indexOf('a', \"banana\") = 1\n",
      "indexOf('z', \"banana\") = -1\n",
      "indexOf(\"ana\", \"banana\") = 1\n",
      "indexOf(\"apple\", \"banana\") = -1\n"
     ]
    }
   ],
   "source": [
    "// ---------------------------\n",
    "// FRQ 1: indexOf Overloads\n",
    "// ---------------------------\n",
    "// Assumptions and Constraints:\n",
    "// - The String s and target are non-null.\n",
    "// - indexOf(char, String): returns the index of the first occurrence of target, or -1 if not found.\n",
    "// - indexOf(String, String): returns the index of the first substring occurrence of target in s.\n",
    "// - Do NOT use built-in indexOf or other library search functions.\n",
    "\n",
    "public class FRQ1_IndexOf {\n",
    "\n",
    "    // indexOf for a single character\n",
    "    static int indexOf(char target, String s) {\n",
    "        for (int i = 0; i < s.length(); i++) {\n",
    "            if (s.charAt(i) == target) {\n",
    "                return i; // Found the first matching character\n",
    "            }\n",
    "        }\n",
    "        return -1; // Not found\n",
    "    }\n",
    "\n",
    "    // indexOf for a substring\n",
    "    static int indexOf(String target, String s) {\n",
    "        if (target.length() == 0 || s.length() < target.length()) return -1;\n",
    "        for (int i = 0; i <= s.length() - target.length(); i++) {\n",
    "            boolean match = true;\n",
    "            for (int j = 0; j < target.length(); j++) {\n",
    "                if (s.charAt(i + j) != target.charAt(j)) {\n",
    "                    match = false;\n",
    "                    break;\n",
    "                }\n",
    "            }\n",
    "            if (match) return i; // Found substring\n",
    "        }\n",
    "        return -1; // Not found\n",
    "    }\n",
    "\n",
    "    // Test output\n",
    "    public static void main(String[] args) {\n",
    "        System.out.println(\"indexOf('a', \\\"banana\\\") = \" + indexOf('a', \"banana\"));   // Expected: 1\n",
    "        System.out.println(\"indexOf('z', \\\"banana\\\") = \" + indexOf('z', \"banana\"));   // Expected: -1\n",
    "        System.out.println(\"indexOf(\\\"ana\\\", \\\"banana\\\") = \" + indexOf(\"ana\", \"banana\")); // Expected: 1\n",
    "        System.out.println(\"indexOf(\\\"apple\\\", \\\"banana\\\") = \" + indexOf(\"apple\", \"banana\")); // Expected: -1\n",
    "    }\n",
    "}\n",
    "FRQ1_IndexOf.main(null);\n"
   ]
  },
  {
   "cell_type": "code",
   "execution_count": 9,
   "id": "5f6ee19f",
   "metadata": {
    "vscode": {
     "languageId": "java"
    }
   },
   "outputs": [
    {
     "name": "stdout",
     "output_type": "stream",
     "text": [
      "clamp(5, 0, 10) = 5\n",
      "clamp(-3, 0, 10) = 0\n",
      "clamp(15, 0, 10) = 10\n",
      "clamp(5, 10, 0) = 5\n",
      "clamp(7.5, 0.0, 10.0) = 7.5\n",
      "clamp(-1.2, 0.0, 10.0) = 0.0\n",
      "clamp(12.8, 0.0, 10.0) = 10.0\n"
     ]
    }
   ],
   "source": [
    "// ---------------------------\n",
    "// FRQ 2: clamp Overloads\n",
    "// ---------------------------\n",
    "// Assumptions and Constraints:\n",
    "// - If low > high, swap them before applying the clamp.\n",
    "// - Returns the value confined to the range [low, high].\n",
    "\n",
    "public class FRQ2_Clamp {\n",
    "\n",
    "    // Clamp for integers\n",
    "    static int clamp(int value, int low, int high) {\n",
    "        if (low > high) { // Swap if needed\n",
    "            int temp = low;\n",
    "            low = high;\n",
    "            high = temp;\n",
    "        }\n",
    "        if (value < low) return low;\n",
    "        if (value > high) return high;\n",
    "        return value;\n",
    "    }\n",
    "\n",
    "    // Clamp for doubles\n",
    "    static double clamp(double value, double low, double high) {\n",
    "        if (low > high) { // Swap if needed\n",
    "            double temp = low;\n",
    "            low = high;\n",
    "            high = temp;\n",
    "        }\n",
    "        if (value < low) return low;\n",
    "        if (value > high) return high;\n",
    "        return value;\n",
    "    }\n",
    "\n",
    "    // Test output\n",
    "    public static void main(String[] args) {\n",
    "        // int version\n",
    "        System.out.println(\"clamp(5, 0, 10) = \" + clamp(5, 0, 10));     // Expected: 5\n",
    "        System.out.println(\"clamp(-3, 0, 10) = \" + clamp(-3, 0, 10));   // Expected: 0\n",
    "        System.out.println(\"clamp(15, 0, 10) = \" + clamp(15, 0, 10));   // Expected: 10\n",
    "        System.out.println(\"clamp(5, 10, 0) = \" + clamp(5, 10, 0));     // Expected: 5 (swapped range)\n",
    "\n",
    "        // double version\n",
    "        System.out.println(\"clamp(7.5, 0.0, 10.0) = \" + clamp(7.5, 0.0, 10.0));   // Expected: 7.5\n",
    "        System.out.println(\"clamp(-1.2, 0.0, 10.0) = \" + clamp(-1.2, 0.0, 10.0)); // Expected: 0.0\n",
    "        System.out.println(\"clamp(12.8, 0.0, 10.0) = \" + clamp(12.8, 0.0, 10.0)); // Expected: 10.0\n",
    "    }\n",
    "}\n",
    "FRQ2_Clamp.main(null);"
   ]
  }
 ],
 "metadata": {
  "kernelspec": {
   "display_name": "Java",
   "language": "java",
   "name": "java"
  },
  "language_info": {
   "codemirror_mode": "java",
   "file_extension": ".jshell",
   "mimetype": "text/x-java-source",
   "name": "Java",
   "pygments_lexer": "java",
   "version": "17.0.16+8-Ubuntu-0ubuntu124.04.1"
  }
 },
 "nbformat": 4,
 "nbformat_minor": 5
}
