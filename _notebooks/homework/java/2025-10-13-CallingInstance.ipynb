{
 "cells": [
  {
   "cell_type": "markdown",
   "id": "3d033633",
   "metadata": {},
   "source": [
    "---\n",
    "layout: post\n",
    "title: Java Calling\n",
    "description: Homework on Java Calling\n",
    "permalink: /csa/unit_01/1_14\n",
    "author: Saanvi Dogra\n",
    "---"
   ]
  },
  {
   "cell_type": "code",
   "execution_count": 1,
   "id": "3545db88",
   "metadata": {
    "vscode": {
     "languageId": "java"
    }
   },
   "outputs": [
    {
     "name": "stdout",
     "output_type": "stream",
     "text": [
      "Fido says: Woof!\n"
     ]
    }
   ],
   "source": [
    "public class Dog {\n",
    "    private String name;\n",
    "    public Dog(String name) {\n",
    "        this.name = name;\n",
    "    }\n",
    "    public void bark() {\n",
    "        System.out.println(name + \" says: Woof!\");\n",
    "    }\n",
    "}\n",
    "\n",
    "// To use it:\n",
    "Dog d = new Dog(\"Fido\");  // create an instance\n",
    "d.bark();     "
   ]
  },
  {
   "cell_type": "code",
   "execution_count": null,
   "id": "15546571",
   "metadata": {
    "vscode": {
     "languageId": "java"
    }
   },
   "outputs": [
    {
     "name": "stdout",
     "output_type": "stream",
     "text": [
      "My dog Buddy is a Golden Retriever!\n"
     ]
    }
   ],
   "source": [
    "//Popcorn Hack 1\n",
    "public class Dog {\n",
    "    // Instance variables\n",
    "    String name;\n",
    "    String breed;\n",
    "\n",
    "    // Constructor\n",
    "    public Dog(String name, String breed) {\n",
    "        this.name = name;\n",
    "        this.breed = breed;\n",
    "    }\n",
    "\n",
    "    // Method to print name and breed\n",
    "    public void printDogInfo() {\n",
    "        System.out.println(\"My dog \" + name + \" is a \" + breed + \"!\");\n",
    "    }\n",
    "\n",
    "    public static void main(String[] args) {\n",
    "        // Create a Dog object\n",
    "        Dog myDog = new Dog(\"Buddy\", \"Golden Retriever\");\n",
    "\n",
    "        // Call the method\n",
    "        myDog.printDogInfo();  // Output: My dog Buddy is a Golden Retriever!\n",
    "    }\n",
    "}\n",
    "Dog.main(null);"
   ]
  },
  {
   "cell_type": "code",
   "execution_count": 4,
   "id": "d542f603",
   "metadata": {
    "vscode": {
     "languageId": "java"
    }
   },
   "outputs": [
    {
     "name": "stdout",
     "output_type": "stream",
     "text": [
      "After add: 10\n",
      "After subtract: 7\n",
      "After multiply: 35\n",
      "After divide: 5\n",
      "After add again: 7\n"
     ]
    }
   ],
   "source": [
    "//Popcorn Hack 2\n",
    "public class Counter {\n",
    "    private int count;\n",
    "\n",
    "    // Constructor (optional)\n",
    "    public Counter() {\n",
    "        count = 0;\n",
    "    }\n",
    "\n",
    "    // 1. Addition\n",
    "    public void add(int x) {\n",
    "        count += x;\n",
    "    }\n",
    "\n",
    "    // 2. Subtraction\n",
    "    public void subtract(int x) {\n",
    "        count -= x;\n",
    "    }\n",
    "\n",
    "    // 3. Multiplication\n",
    "    public void multiply(int x) {\n",
    "        count *= x;\n",
    "    }\n",
    "\n",
    "    // 4. Division (integer division)\n",
    "    public void divide(int x) {\n",
    "        if (x != 0) {\n",
    "            count /= x;\n",
    "        } else {\n",
    "            System.out.println(\"Cannot divide by zero!\");\n",
    "        }\n",
    "    }\n",
    "\n",
    "    // 5. Getter for current count\n",
    "    public int getCount() {\n",
    "        return count;\n",
    "    }\n",
    "\n",
    "    public static void main(String[] args) {\n",
    "        // Create Counter object\n",
    "        Counter c = new Counter();\n",
    "\n",
    "        // Call all methods outside the class\n",
    "        c.add(10);\n",
    "        System.out.println(\"After add: \" + c.getCount());\n",
    "\n",
    "        c.subtract(3);\n",
    "        System.out.println(\"After subtract: \" + c.getCount());\n",
    "\n",
    "        c.multiply(5);\n",
    "        System.out.println(\"After multiply: \" + c.getCount());\n",
    "\n",
    "        c.divide(7);\n",
    "        System.out.println(\"After divide: \" + c.getCount());\n",
    "\n",
    "        c.add(2);\n",
    "        System.out.println(\"After add again: \" + c.getCount());\n",
    "    }\n",
    "}\n",
    "Counter.main(null);"
   ]
  },
  {
   "cell_type": "code",
   "execution_count": 6,
   "id": "8e63334f",
   "metadata": {
    "vscode": {
     "languageId": "java"
    }
   },
   "outputs": [],
   "source": [
    "public class Turtle {\n",
    "    private int x, y;\n",
    "    public void forward(int distance) {\n",
    "        // move the turtle forward by distance\n",
    "    }\n",
    "    public void turnLeft(int degrees) {\n",
    "        // rotate turtle direction\n",
    "    }\n",
    "    public void drawHouse() {\n",
    "        // uses forward and turnLeft to draw a house\n",
    "        forward(50);\n",
    "        turnLeft(90);\n",
    "        forward(50);\n",
    "        // etc.\n",
    "    }\n",
    "}\n",
    "Turtle t = new Turtle();\n",
    "t.drawHouse();  "
   ]
  }
 ],
 "metadata": {
  "kernelspec": {
   "display_name": "Java",
   "language": "java",
   "name": "java"
  },
  "language_info": {
   "codemirror_mode": "java",
   "file_extension": ".jshell",
   "mimetype": "text/x-java-source",
   "name": "Java",
   "pygments_lexer": "java",
   "version": "17.0.16+8-Ubuntu-0ubuntu124.04.1"
  }
 },
 "nbformat": 4,
 "nbformat_minor": 5
}
