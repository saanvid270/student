{
 "cells": [
  {
   "cell_type": "markdown",
   "id": "46921955",
   "metadata": {},
   "source": [
    "---\n",
    "layout: post\n",
    "title: Java Math Class\n",
    "description: Homework on Java Math Class\n",
    "permalink: /csa/unit_01/1_11\n",
    "author: Saanvi Dogra\n",
    "---"
   ]
  },
  {
   "cell_type": "code",
   "execution_count": null,
   "id": "20d493e2",
   "metadata": {
    "vscode": {
     "languageId": "java"
    }
   },
   "outputs": [],
   "source": [
    "// Math.abs() removes the negative sign from a number\n",
    "\n",
    "int playerHealth = 75;\n",
    "int enemyHealth = 120;\n",
    "int difference = playerHealth - enemyHealth;  // This is -45\n",
    "\n",
    "System.out.println(\"Raw difference: \" + difference);\n",
    "System.out.println(\"Absolute difference: \" + Math.abs(difference));\n",
    "\n",
    "// Use case: Find out WHO has more health, not if it's positive or negative\n",
    "System.out.println(\"\\nThe health gap is \" + Math.abs(difference) + \" HP\");"
   ]
  },
  {
   "cell_type": "code",
   "execution_count": null,
   "id": "e3e4a94b",
   "metadata": {
    "vscode": {
     "languageId": "java"
    }
   },
   "outputs": [],
   "source": [
    "// Math.pow(base, exponent) calculates base^exponent\n",
    "\n",
    "// Example: Calculate damage that increases with level\n",
    "double baseDamage = 10.0;\n",
    "int level = 5;\n",
    "\n",
    "// Damage formula: baseDamage * (1.5^level)\n",
    "double totalDamage = baseDamage * Math.pow(1.5, level);\n",
    "\n",
    "System.out.println(\"Base Damage: \" + baseDamage);\n",
    "System.out.println(\"At level \" + level + \", damage is: \" + totalDamage);\n",
    "\n",
    "// Another example: 2^10\n",
    "System.out.println(\"\\n2 to the power of 10 = \" + Math.pow(2, 10));"
   ]
  },
  {
   "cell_type": "code",
   "execution_count": null,
   "id": "85ea3ad4",
   "metadata": {
    "vscode": {
     "languageId": "java"
    }
   },
   "outputs": [],
   "source": [
    "// Math.sqrt() finds the square root\n",
    "\n",
    "// Use case: Distance formula (Pythagorean theorem)\n",
    "// Distance = √((x2-x1)² + (y2-y1)²)\n",
    "\n",
    "double playerX = 3.0;\n",
    "double playerY = 4.0;\n",
    "double enemyX = 0.0;\n",
    "double enemyY = 0.0;\n",
    "\n",
    "// Calculate distance\n",
    "double distance = Math.sqrt(Math.pow(playerX - enemyX, 2) + Math.pow(playerY - enemyY, 2));\n",
    "\n",
    "System.out.println(\"Player is at (\" + playerX + \", \" + playerY + \")\");\n",
    "System.out.println(\"Enemy is at (\" + enemyX + \", \" + enemyY + \")\");\n",
    "System.out.println(\"Distance between them: \" + distance + \" units\");"
   ]
  },
  {
   "cell_type": "code",
   "execution_count": null,
   "id": "c325f11f",
   "metadata": {
    "vscode": {
     "languageId": "java"
    }
   },
   "outputs": [],
   "source": [
    "// Math.random() returns a value: 0.0 <= value < 1.0\n",
    "// This means it can be 0.0, but will NEVER be exactly 1.0\n",
    "\n",
    "System.out.println(\"Basic random number: \" + Math.random());\n",
    "System.out.println(\"Another one: \" + Math.random());\n",
    "System.out.println(\"And another: \" + Math.random());\n",
    "\n",
    "// These will all be different numbers between 0.0 and 1.0\n",
    "// Examples: 0.374, 0.891, 0.025, etc."
   ]
  },
  {
   "cell_type": "code",
   "execution_count": null,
   "id": "02cd1a48",
   "metadata": {
    "vscode": {
     "languageId": "java"
    }
   },
   "outputs": [],
   "source": [
    "//Popcorn hack #1\n",
    "public class PowerLevelCalculator {\n",
    "    public static void main(String[] args) {\n",
    "        // Base power\n",
    "        double basePower = 100;\n",
    "\n",
    "        // You can hard-code or use Scanner to ask user\n",
    "        int level = 10; // or: Scanner sc = new Scanner(System.in); int level = sc.nextInt();\n",
    "\n",
    "        // Power formula\n",
    "        double finalPower = basePower * Math.pow(1.2, level);\n",
    "\n",
    "        // Print result\n",
    "        System.out.println(\"Level: \" + level);\n",
    "        System.out.println(\"Base Power: \" + basePower);\n",
    "        System.out.printf(\"Final Power: %.2f%n\", finalPower);\n",
    "    }\n",
    "}\n",
    "PowerLevelCalculator.main(null);"
   ]
  },
  {
   "cell_type": "code",
   "execution_count": 1,
   "id": "1798aaaf",
   "metadata": {
    "vscode": {
     "languageId": "java"
    }
   },
   "outputs": [
    {
     "name": "stdout",
     "output_type": "stream",
     "text": [
      "Loot Drop!\n",
      "Rarity Roll: 38\n",
      "You got: COMMON item\n",
      "Gold Value: 30\n"
     ]
    }
   ],
   "source": [
    "//Popcorn hack #2\n",
    "public class LootDropSimulator {\n",
    "    public static void main(String[] args) {\n",
    "        System.out.println(\"Loot Drop!\");\n",
    "\n",
    "        // Generate rarity roll (1–100)\n",
    "        int rarityRoll = (int)(Math.random() * 100) + 1;\n",
    "        System.out.println(\"Rarity Roll: \" + rarityRoll);\n",
    "\n",
    "        String rarity;\n",
    "        int goldValue;\n",
    "\n",
    "        // Determine rarity and gold value range\n",
    "        if (rarityRoll <= 60) {\n",
    "            rarity = \"COMMON\";\n",
    "            goldValue = (int)(Math.random() * 21) + 10; // 10–30\n",
    "        } else if (rarityRoll <= 85) {\n",
    "            rarity = \"RARE\";\n",
    "            goldValue = (int)(Math.random() * 40) + 31; // 31–70\n",
    "        } else {\n",
    "            rarity = \"LEGENDARY\";\n",
    "            goldValue = (int)(Math.random() * 30) + 71; // 71–100\n",
    "        }\n",
    "\n",
    "        // Print results\n",
    "        System.out.println(\"You got: \" + rarity + \" item\");\n",
    "        System.out.println(\"Gold Value: \" + goldValue);\n",
    "    }\n",
    "}\n",
    "\n",
    "LootDropSimulator.main(null);"
   ]
  },
  {
   "cell_type": "code",
   "execution_count": 3,
   "id": "ce9d209b",
   "metadata": {
    "vscode": {
     "languageId": "java"
    }
   },
   "outputs": [
    {
     "name": "stdout",
     "output_type": "stream",
     "text": [
      "Health Difference Examples:\n",
      "45\n",
      "20\n",
      "0\n",
      "\n",
      "Attack Damage Examples:\n",
      "22.5\n",
      "50.625\n",
      "\n",
      "Distance Detector Examples:\n",
      "5.0\n",
      "5.0\n",
      "\n",
      "Random Loot Generator Examples:\n",
      "43\n",
      "100\n",
      "3\n"
     ]
    }
   ],
   "source": [
    "//Homework\n",
    "public class GameStatsCalculator {\n",
    "\n",
    "    // Part A: Health Difference Calculator\n",
    "    public static int healthDifference(int player1Health, int player2Health) {\n",
    "        // Use Math.abs() to ensure the result is always positive\n",
    "        return Math.abs(player1Health - player2Health);\n",
    "    }\n",
    "\n",
    "    // Part B: Attack Damage Calculator\n",
    "    public static double calculateDamage(double baseDamage, double powerLevel) {\n",
    "        // Use Math.pow() to calculate baseDamage * (1.5 ^ powerLevel)\n",
    "        return baseDamage * Math.pow(1.5, powerLevel);\n",
    "    }\n",
    "\n",
    "    // Part C: Distance Detector\n",
    "    public static double findDistance(int playerX, int playerY, int enemyX, int enemyY) {\n",
    "        // Use distance formula: √((x2-x1)² + (y2-y1)²)\n",
    "        return Math.sqrt(Math.pow(enemyX - playerX, 2) + Math.pow(enemyY - playerY, 2));\n",
    "    }\n",
    "\n",
    "    // Part D: Random Loot Generator\n",
    "    public static int generateLoot(int minValue, int maxValue) {\n",
    "        // Use Math.random() formula for random integer in range [min, max]\n",
    "        return (int)(Math.random() * (maxValue - minValue + 1)) + minValue;\n",
    "    }\n",
    "\n",
    "    // Test all methods in main()\n",
    "    public static void main(String[] args) {\n",
    "        // Part A examples\n",
    "        System.out.println(\"Health Difference Examples:\");\n",
    "        System.out.println(healthDifference(75, 120));  // → 45\n",
    "        System.out.println(healthDifference(100, 80));  // → 20\n",
    "        System.out.println(healthDifference(50, 50));   // → 0\n",
    "        System.out.println();\n",
    "\n",
    "        // Part B examples\n",
    "        System.out.println(\"Attack Damage Examples:\");\n",
    "        System.out.println(calculateDamage(10.0, 2));   // → 22.5\n",
    "        System.out.println(calculateDamage(15.0, 3));   // → 50.625\n",
    "        System.out.println();\n",
    "\n",
    "        // Part C examples\n",
    "        System.out.println(\"Distance Detector Examples:\");\n",
    "        System.out.println(findDistance(0, 0, 3, 4));   // → 5.0\n",
    "        System.out.println(findDistance(1, 1, 4, 5));   // → 5.0\n",
    "        System.out.println();\n",
    "\n",
    "        // Part D examples\n",
    "        System.out.println(\"Random Loot Generator Examples:\");\n",
    "        System.out.println(generateLoot(10, 50));       // → random 10–50\n",
    "        System.out.println(generateLoot(100, 100));     // → 100\n",
    "        System.out.println(generateLoot(1, 6));         // → random 1–6\n",
    "    }\n",
    "}\n",
    "GameStatsCalculator.main(null);"
   ]
  }
 ],
 "metadata": {
  "kernelspec": {
   "display_name": "Java",
   "language": "java",
   "name": "java"
  },
  "language_info": {
   "codemirror_mode": "java",
   "file_extension": ".jshell",
   "mimetype": "text/x-java-source",
   "name": "Java",
   "pygments_lexer": "java",
   "version": "17.0.16+8-Ubuntu-0ubuntu124.04.1"
  }
 },
 "nbformat": 4,
 "nbformat_minor": 5
}
