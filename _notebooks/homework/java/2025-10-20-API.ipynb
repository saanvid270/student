{
 "cells": [
  {
   "cell_type": "markdown",
   "id": "e45f92c7",
   "metadata": {},
   "source": [
    "---\n",
    "layout: post\n",
    "title: Java API\n",
    "description: Homework on Java API and Libraries\n",
    "permalink: /csa/unit_01/1_7\n",
    "author: Saanvi Dogra\n",
    "---"
   ]
  },
  {
   "cell_type": "code",
   "execution_count": 4,
   "id": "955afea6",
   "metadata": {
    "vscode": {
     "languageId": "java"
    }
   },
   "outputs": [
    {
     "name": "stdout",
     "output_type": "stream",
     "text": [
      "Hello, CSA!\n",
      "Square root of 16: 4.0\n"
     ]
    }
   ],
   "source": [
    "public class LibraryDemo {\n",
    "    public static void main(String[] args) {\n",
    "        // Using String class from library\n",
    "        String message = \"Hello, CSA!\";\n",
    "        \n",
    "        // Using Math class from library  \n",
    "        double result = Math.sqrt(16);\n",
    "        \n",
    "        System.out.println(message);\n",
    "        System.out.println(\"Square root of 16: \" + result);\n",
    "    }\n",
    "}\n",
    "\n",
    "LibraryDemo.main(null);"
   ]
  },
  {
   "cell_type": "code",
   "execution_count": 3,
   "id": "4281234d",
   "metadata": {
    "vscode": {
     "languageId": "java"
    }
   },
   "outputs": [
    {
     "name": "stdout",
     "output_type": "stream",
     "text": [
      "Original: Computer Science\n",
      "Length: 16\n",
      "Uppercase: COMPUTER SCIENCE\n",
      "First 8 chars: Computer\n"
     ]
    }
   ],
   "source": [
    "public class APIDemo {\n",
    "    public static void main(String[] args) {\n",
    "        String text = \"Computer Science\";\n",
    "        \n",
    "        // Methods from String API\n",
    "        System.out.println(\"Original: \" + text);\n",
    "        System.out.println(\"Length: \" + text.length());\n",
    "        System.out.println(\"Uppercase: \" + text.toUpperCase());\n",
    "        System.out.println(\"First 8 chars: \" + text.substring(0, 8));\n",
    "    }\n",
    "}\n",
    "\n",
    "APIDemo.main(null);"
   ]
  },
  {
   "cell_type": "code",
   "execution_count": 2,
   "id": "66c4f2fb",
   "metadata": {
    "vscode": {
     "languageId": "java"
    }
   },
   "outputs": [
    {
     "name": "stdout",
     "output_type": "stream",
     "text": [
      "String: Java\n",
      "Absolute value: 5\n",
      "ArrayList: [Item 1]\n"
     ]
    }
   ],
   "source": [
    "import java.util.ArrayList;  // Need import for java.util\n",
    "\n",
    "public class PackageDemo {\n",
    "    public static void main(String[] args) {\n",
    "        // java.lang - no import needed\n",
    "        String name = \"Java\";\n",
    "        int num = Math.abs(-5);\n",
    "        \n",
    "        // java.util - import needed\n",
    "        ArrayList<String> list = new ArrayList<>();\n",
    "        list.add(\"Item 1\");\n",
    "        \n",
    "        System.out.println(\"String: \" + name);\n",
    "        System.out.println(\"Absolute value: \" + num);\n",
    "        System.out.println(\"ArrayList: \" + list);\n",
    "    }\n",
    "}\n",
    "\n",
    "PackageDemo.main(null);"
   ]
  },
  {
   "cell_type": "code",
   "execution_count": 1,
   "id": "3a229dbf",
   "metadata": {
    "vscode": {
     "languageId": "java"
    }
   },
   "outputs": [
    {
     "name": "stdout",
     "output_type": "stream",
     "text": [
      "Scores: [95, 87, 92]\n",
      "First score: 95\n",
      "Total scores: 3\n"
     ]
    }
   ],
   "source": [
    "import java.util.ArrayList;\n",
    "\n",
    "public class DocumentationDemo {\n",
    "    public static void main(String[] args) {\n",
    "        // Constructor from documentation\n",
    "        ArrayList<Integer> scores = new ArrayList<>();\n",
    "        \n",
    "        // Methods from documentation\n",
    "        scores.add(95);      // add(element)\n",
    "        scores.add(87);\n",
    "        scores.add(92);\n",
    "        \n",
    "        System.out.println(\"Scores: \" + scores);\n",
    "        System.out.println(\"First score: \" + scores.get(0));  // get(index)\n",
    "        System.out.println(\"Total scores: \" + scores.size()); // size()\n",
    "    }\n",
    "}\n",
    "\n",
    "DocumentationDemo.main(null);"
   ]
  },
  {
   "cell_type": "code",
   "execution_count": 5,
   "id": "4a991b38",
   "metadata": {
    "vscode": {
     "languageId": "java"
    }
   },
   "outputs": [
    {
     "name": "stdout",
     "output_type": "stream",
     "text": [
      "3^4 = 81.0\n",
      "√64 = 8.0\n",
      "Number of colors: 3\n"
     ]
    }
   ],
   "source": [
    "// Popcorn Hack #1\n",
    "\n",
    "import java.util.ArrayList;\n",
    "\n",
    "public class PopcornHack1 {\n",
    "    public static void main(String[] args) {\n",
    "        // Use Math.pow() to calculate 3^4\n",
    "        double powerResult = Math.pow(3, 4);\n",
    "        System.out.println(\"3^4 = \" + powerResult);\n",
    "\n",
    "        // Use Math.sqrt() to find square root of 64\n",
    "        double sqrtResult = Math.sqrt(64);\n",
    "        System.out.println(\"√64 = \" + sqrtResult);\n",
    "\n",
    "        // Create ArrayList of Strings\n",
    "        ArrayList<String> colors = new ArrayList<>();\n",
    "\n",
    "        // Add 3 colors\n",
    "        colors.add(\"red\");\n",
    "        colors.add(\"blue\");\n",
    "        colors.add(\"green\");\n",
    "\n",
    "        // Print the size\n",
    "        System.out.println(\"Number of colors: \" + colors.size());\n",
    "    }\n",
    "}\n",
    "\n",
    "// Run this line in your environment to execute:\n",
    "PopcornHack1.main(null);\n"
   ]
  },
  {
   "cell_type": "code",
   "execution_count": 6,
   "id": "3f2dba8e",
   "metadata": {
    "vscode": {
     "languageId": "java"
    }
   },
   "outputs": [
    {
     "name": "stdout",
     "output_type": "stream",
     "text": [
      "Title: Java Basics\n",
      "Author: John Doe\n",
      "Pages: 350\n",
      "Is the book long? true\n"
     ]
    }
   ],
   "source": [
    "// Popcorn Hack #2: Attributes and Behaviors\n",
    "\n",
    "public class Book {\n",
    "    // Attributes\n",
    "    String title;\n",
    "    String author;\n",
    "    int pages;\n",
    "\n",
    "    // Constructor\n",
    "    public Book(String title, String author, int pages) {\n",
    "        this.title = title;\n",
    "        this.author = author;\n",
    "        this.pages = pages;\n",
    "    }\n",
    "\n",
    "    // Method to display all book info\n",
    "    public void displayInfo() {\n",
    "        System.out.println(\"Title: \" + title);\n",
    "        System.out.println(\"Author: \" + author);\n",
    "        System.out.println(\"Pages: \" + pages);\n",
    "    }\n",
    "\n",
    "    // Method to check if book is long\n",
    "    public boolean isLong() {\n",
    "        return pages > 300;\n",
    "    }\n",
    "\n",
    "    // Main method to test\n",
    "    public static void main(String[] args) {\n",
    "        Book myBook = new Book(\"Java Basics\", \"John Doe\", 350);\n",
    "        myBook.displayInfo();\n",
    "        System.out.println(\"Is the book long? \" + myBook.isLong());\n",
    "    }\n",
    "}\n",
    "\n",
    "Book.main(null);\n"
   ]
  },
  {
   "cell_type": "code",
   "execution_count": 7,
   "id": "c0e54e3a",
   "metadata": {
    "vscode": {
     "languageId": "java"
    }
   },
   "outputs": [
    {
     "name": "stdout",
     "output_type": "stream",
     "text": [
      "Alice added to contacts.\n",
      "Bob added to contacts.\n",
      "Charlie added to contacts.\n",
      "David added to contacts.\n",
      "Ella added to contacts.\n",
      "Frank added to contacts.\n",
      "iPhone 15 used for 20 minutes. Battery now: 80%\n",
      "Galaxy S24 used for 45 minutes. Battery now: 55%\n",
      "\n",
      "--- Phone 1 Info ---\n",
      "Brand: Apple\n",
      "Model: iPhone 15\n",
      "Battery Level: 80%\n",
      "Contacts for iPhone 15: [Alice, Bob, Charlie]\n",
      "\n",
      "--- Phone 2 Info ---\n",
      "Brand: Samsung\n",
      "Model: Galaxy S24\n",
      "Battery Level: 55%\n",
      "Contacts for Galaxy S24: [David, Ella, Frank]\n"
     ]
    }
   ],
   "source": [
    "// Homework Hack: Phone Class\n",
    "import java.util.ArrayList;\n",
    "\n",
    "public class Phone {\n",
    "    // Attributes\n",
    "    String brand;\n",
    "    String model;\n",
    "    int batteryLevel;\n",
    "    ArrayList<String> contacts;\n",
    "\n",
    "    // Constructor\n",
    "    public Phone(String brand, String model) {\n",
    "        this.brand = brand;\n",
    "        this.model = model;\n",
    "        this.batteryLevel = 100;\n",
    "        this.contacts = new ArrayList<>();\n",
    "    }\n",
    "\n",
    "    // Display info about the phone\n",
    "    public void displayInfo() {\n",
    "        System.out.println(\"Brand: \" + brand);\n",
    "        System.out.println(\"Model: \" + model);\n",
    "        System.out.println(\"Battery Level: \" + batteryLevel + \"%\");\n",
    "    }\n",
    "\n",
    "    // Add a contact\n",
    "    public void addContact(String name) {\n",
    "        contacts.add(name);\n",
    "        System.out.println(name + \" added to contacts.\");\n",
    "    }\n",
    "\n",
    "    // Show all contacts\n",
    "    public void showContacts() {\n",
    "        System.out.println(\"Contacts for \" + model + \": \" + contacts);\n",
    "    }\n",
    "\n",
    "    // Use phone (reduces battery)\n",
    "    public void usePhone(int minutes) {\n",
    "        batteryLevel -= minutes;\n",
    "        if (batteryLevel < 0) batteryLevel = 0;\n",
    "        System.out.println(model + \" used for \" + minutes + \" minutes. Battery now: \" + batteryLevel + \"%\");\n",
    "    }\n",
    "}\n",
    "\n",
    "// Test class\n",
    "public class PhoneTest {\n",
    "    public static void main(String[] args) {\n",
    "        // Create 2 phones\n",
    "        Phone phone1 = new Phone(\"Apple\", \"iPhone 15\");\n",
    "        Phone phone2 = new Phone(\"Samsung\", \"Galaxy S24\");\n",
    "\n",
    "        // Add contacts\n",
    "        phone1.addContact(\"Alice\");\n",
    "        phone1.addContact(\"Bob\");\n",
    "        phone1.addContact(\"Charlie\");\n",
    "\n",
    "        phone2.addContact(\"David\");\n",
    "        phone2.addContact(\"Ella\");\n",
    "        phone2.addContact(\"Frank\");\n",
    "\n",
    "        // Use phones\n",
    "        phone1.usePhone(20);\n",
    "        phone2.usePhone(45);\n",
    "\n",
    "        // Display info and contacts\n",
    "        System.out.println(\"\\n--- Phone 1 Info ---\");\n",
    "        phone1.displayInfo();\n",
    "        phone1.showContacts();\n",
    "\n",
    "        System.out.println(\"\\n--- Phone 2 Info ---\");\n",
    "        phone2.displayInfo();\n",
    "        phone2.showContacts();\n",
    "    }\n",
    "}\n",
    "\n",
    "PhoneTest.main(null);\n"
   ]
  }
 ],
 "metadata": {
  "kernelspec": {
   "display_name": "Java",
   "language": "java",
   "name": "java"
  },
  "language_info": {
   "codemirror_mode": "java",
   "file_extension": ".jshell",
   "mimetype": "text/x-java-source",
   "name": "Java",
   "pygments_lexer": "java",
   "version": "17.0.16+8-Ubuntu-0ubuntu124.04.1"
  }
 },
 "nbformat": 4,
 "nbformat_minor": 5
}
