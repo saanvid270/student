{
 "cells": [
  {
   "cell_type": "markdown",
   "id": "009045e8",
   "metadata": {},
   "source": [
    "---\n",
    "layout: post\n",
    "title: Java Assignment Statement\n",
    "description: Homework on Java Assignment Statement\n",
    "permalink: /csa/unit_01/1_4\n",
    "author: Saanvi Dogra\n",
    "---"
   ]
  },
  {
   "cell_type": "code",
   "execution_count": 1,
   "id": "059399a8",
   "metadata": {
    "vscode": {
     "languageId": "java"
    }
   },
   "outputs": [],
   "source": [
    "//Popcorn Hack 1.1\n",
    "int x = 10;\n",
    "x = 20;\n",
    "int y = x;\n",
    "//y=20\n",
    "//Line 1: x is assigned 10\n",
    "//Line 2: x is reassigned to 20 (the 10 is overwritten)\n",
    "//Line 3: The current value of x (which is 20) is copied into y"
   ]
  },
  {
   "cell_type": "markdown",
   "id": "07875ff3",
   "metadata": {},
   "source": [
    "Popcorn Hack 1.2\n",
    "If you write int count = \"hello\"; in Java, the program will fail to compile and give an error like “incompatible types: String cannot be converted to int.” This happens because Java is a strongly typed language, and each variable must store only the type of data it was declared to hold. The variable count is declared as an int, which can only store whole numbers, while \"hello\" is a String, which is text. Assigning a string to an integer variable is not allowed. This behavior is helpful because it catches errors before the program runs, preventing bugs such as trying to perform arithmetic on non-numeric data. By enforcing correct data types, Java ensures safer and more predictable code."
   ]
  },
  {
   "cell_type": "markdown",
   "id": "2c1bee06",
   "metadata": {},
   "source": [
    "Popcorn Hack 2.1\n",
    "If a user types \"twenty\" when nextInt() expects a number, the program will throw an InputMismatchException and crash because nextInt() can only read valid integers, and the string \"twenty\" cannot be converted into an integer. To make the program more robust, you can validate user input before attempting to read it as an integer. One common approach is to use a loop with hasNextInt() to check whether the next input is a valid integer. If it is not, the program can prompt the user to enter a number again and discard the invalid input. This prevents the program from crashing and ensures that it only proceeds once a proper integer has been entered, making the program safer and more user-friendly."
   ]
  },
  {
   "cell_type": "markdown",
   "id": "dcbd2853",
   "metadata": {},
   "source": [
    "Popcorn Hack 2.2\n",
    "If a user enters \"San Diego\" when next() is called, only the first word \"San\" gets stored because next() reads input only up to the first whitespace. The remaining text \"Diego\" stays in the input buffer for the next read. In contrast, if nextLine() is used, the entire line \"San Diego\" is read and stored, including spaces, until the user presses Enter. This distinction is important because next() is useful for single-word input, while nextLine() is necessary when you want to capture an entire line of text, such as a full name or a sentence."
   ]
  },
  {
   "cell_type": "code",
   "execution_count": 2,
   "id": "8f5fc6d5",
   "metadata": {
    "vscode": {
     "languageId": "java"
    }
   },
   "outputs": [
    {
     "name": "stdout",
     "output_type": "stream",
     "text": [
      "=== User Information Program ===\n",
      "\n",
      "Enter your full name: Enter your age: Enter your GPA: \n",
      "--- Summary ---\n",
      "Name: Saanvi Dogra\n",
      "Age: 17 (next year: 18)\n",
      "GPA: 4.0\n"
     ]
    }
   ],
   "source": [
    "import java.util.Scanner;\n",
    "\n",
    "public class InputLesson {\n",
    "    public static void main(String[] args) {\n",
    "        System.out.println(\"=== User Information Program ===\\n\");\n",
    "        Scanner sc = new Scanner(System.in);\n",
    "\n",
    "        // String input\n",
    "        System.out.print(\"Enter your full name: \");\n",
    "        String name = sc.nextLine();\n",
    "        \n",
    "        // Integer input\n",
    "        System.out.print(\"Enter your age: \");\n",
    "        int age = sc.nextInt();\n",
    "        \n",
    "        // Double input\n",
    "        System.out.print(\"Enter your GPA: \");\n",
    "        double gpa = sc.nextDouble();\n",
    "        \n",
    "        // Display results\n",
    "        System.out.println(\"\\n--- Summary ---\");\n",
    "        System.out.println(\"Name: \" + name);\n",
    "        System.out.println(\"Age: \" + age + \" (next year: \" + (age + 1) + \")\");\n",
    "        System.out.println(\"GPA: \" + gpa);\n",
    "        \n",
    "        sc.close();\n",
    "    }\n",
    "}\n",
    "InputLesson.main(new String[]{});"
   ]
  },
  {
   "cell_type": "markdown",
   "id": "f04232be",
   "metadata": {},
   "source": [
    "Popcorn Hack 3\n",
    "=== User Information Program ===\n",
    "\n",
    "Enter your full name: Enter your age: Enter your GPA: \n",
    "--- Summary ---\n",
    "Name: Alice Wonderland\n",
    "Age: 20 (next year: 21)\n",
    "GPA: 3.85"
   ]
  },
  {
   "cell_type": "markdown",
   "id": "757aa790",
   "metadata": {},
   "source": [
    "Quick Knowledge Check\n",
    "B\n",
    "B, C"
   ]
  },
  {
   "cell_type": "code",
   "execution_count": 3,
   "id": "640fadb2",
   "metadata": {
    "vscode": {
     "languageId": "java"
    }
   },
   "outputs": [
    {
     "name": "stdout",
     "output_type": "stream",
     "text": [
      "Enter first integer: Enter second integer: Enter third integer: The average is: 15.33\n"
     ]
    }
   ],
   "source": [
    "//Homework Hack\n",
    "import java.util.Scanner;\n",
    "\n",
    "public class ThreeNumberAverage {\n",
    "    public static void main(String[] args) {\n",
    "        Scanner input = new Scanner(System.in);\n",
    "\n",
    "        System.out.print(\"Enter first integer: \");\n",
    "        int num1 = input.nextInt();\n",
    "\n",
    "        System.out.print(\"Enter second integer: \");\n",
    "        int num2 = input.nextInt();\n",
    "\n",
    "        System.out.print(\"Enter third integer: \");\n",
    "        int num3 = input.nextInt();\n",
    "\n",
    "        double average = (double)(num1 + num2 + num3) / 3;\n",
    "\n",
    "        System.out.printf(\"The average is: %.2f%n\", average);\n",
    "    }\n",
    "}\n",
    "ThreeNumberAverage.main(new String[]{});"
   ]
  }
 ],
 "metadata": {
  "kernelspec": {
   "display_name": "Java",
   "language": "java",
   "name": "java"
  },
  "language_info": {
   "codemirror_mode": "java",
   "file_extension": ".jshell",
   "mimetype": "text/x-java-source",
   "name": "Java",
   "pygments_lexer": "java",
   "version": "17.0.16+8-Ubuntu-0ubuntu124.04.1"
  }
 },
 "nbformat": 4,
 "nbformat_minor": 5
}
