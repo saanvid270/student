{
 "cells": [
  {
   "cell_type": "markdown",
   "id": "9cd1641d",
   "metadata": {},
   "source": [
    "---\n",
    "layout: post\n",
    "title: Java Expression and Output\n",
    "description: Homework on Java Expression and Output\n",
    "permalink: /csa/unit_01/1_3\n",
    "author: Saanvi Dogra\n",
    "---"
   ]
  },
  {
   "cell_type": "code",
   "execution_count": 2,
   "id": "dd11323c",
   "metadata": {
    "vscode": {
     "languageId": "java"
    }
   },
   "outputs": [
    {
     "name": "stdout",
     "output_type": "stream",
     "text": [
      "10\n",
      "4\n",
      "21\n",
      "2\n",
      "1\n",
      "2\n",
      "2.3333333333333335\n",
      "2.3333333333333335\n",
      "14\n",
      "20\n",
      "Result: 53\n",
      "Result: 8\n"
     ]
    }
   ],
   "source": [
    "System.out.println(7 + 3);   // 10\n",
    "System.out.println(7 - 3);   // 4\n",
    "System.out.println(7 * 3);   // 21\n",
    "System.out.println(7 / 3);   // 2  (integer division)\n",
    "System.out.println(7 % 3);   // 1  (remainder)\n",
    "\n",
    "System.out.println(7 / 3);     // 2\n",
    "System.out.println(7.0 / 3);   // 2.333333...\n",
    "System.out.println(7 / 3.0);   // 2.333333...\n",
    "\n",
    "\n",
    "System.out.println(2 + 3 * 4);   // 14\n",
    "System.out.println((2 + 3) * 4); // 20\n",
    "\n",
    "\n",
    "System.out.println(\"Result: \" + 5 + 3);   // Result: 53\n",
    "System.out.println(\"Result: \" + (5 + 3)); // Result: 8\n",
    "\n"
   ]
  },
  {
   "cell_type": "code",
   "execution_count": 4,
   "id": "06cd2ac2",
   "metadata": {
    "vscode": {
     "languageId": "java"
    }
   },
   "outputs": [
    {
     "name": "stdout",
     "output_type": "stream",
     "text": [
      "Sum = 10.0\n",
      "Line1\n",
      "Line2\n",
      "Col1\tCol2\tCol3\n",
      "Value: 7\n",
      "Integer: 7\n",
      "Float: 3.00\n",
      "String: Hello\n",
      "4\n",
      "4.0\n",
      "a = 7, b = 3.00\n",
      "Sum = 10.00, Difference = 4.00, Product = 21.00, Division = 2.33\n"
     ]
    },
    {
     "data": {
      "text/plain": [
       "java.io.PrintStream@3578f9b0"
      ]
     },
     "execution_count": 4,
     "metadata": {},
     "output_type": "execute_result"
    }
   ],
   "source": [
    "//Popcorn Hack 1\n",
    "int a = 7;\n",
    "double b = 3.0;\n",
    "\n",
    "// 1. + (String concatenation)\n",
    "// Combines strings or strings with numbers\n",
    "// Example:\n",
    "System.out.println(\"Sum = \" + (a + b));\n",
    "\n",
    "// 2. \\n (Newline character)\n",
    "// Moves output to the next line\n",
    "System.out.println(\"Line1\\nLine2\");\n",
    "\n",
    "// 3. \\t (Tab character)\n",
    "// Adds horizontal spacing for alignment\n",
    "System.out.println(\"Col1\\tCol2\\tCol3\");\n",
    "\n",
    "// 4. printf()\n",
    "// Formats output using placeholders\n",
    "// Example:\n",
    "System.out.printf(\"Value: %d\\n\", a);\n",
    "\n",
    "// 5. %d\n",
    "// Placeholder for integers in printf()\n",
    "System.out.printf(\"Integer: %d\\n\", a);\n",
    "\n",
    "// 6. %f\n",
    "// Placeholder for floating-point numbers in printf()\n",
    "// Can specify precision: %.2f for 2 decimal places\n",
    "System.out.printf(\"Float: %.2f\\n\", b);\n",
    "\n",
    "// 7. %s\n",
    "// Placeholder for strings in printf()\n",
    "System.out.printf(\"String: %s\\n\", \"Hello\");\n",
    "\n",
    "// 8. Math.round()\n",
    "// Rounds a floating-point number to the nearest integer\n",
    "System.out.println(Math.round(3.6)); // Output: 4\n",
    "\n",
    "// 9. Math.floor()\n",
    "// Rounds up to the nearest integer\n",
    "System.out.println(Math.ceil(3.6)); // Output: 4.0\n",
    "\n",
    "System.out.printf(\"a = %d, b = %.2f\\nSum = %.2f, Difference = %.2f, Product = %.2f, Division = %.2f\\n\", a, b, (a+b), (a-b), (a*b), (a/b));\n"
   ]
  },
  {
   "cell_type": "markdown",
   "id": "0ce0993f",
   "metadata": {},
   "source": [
    "Popcorn Hack 2\n",
    "The formatting tools used in the Menu.java program include System.out.println(), System.out.print(), string literals, string concatenation, and variables. The System.out.println() command prints text and moves to a new line, which makes the menu options appear neatly one under another for easy reading. The System.out.print() command prints text without moving to a new line, keeping the input prompt (\"Choose an option:\") on the same line for a cleaner user experience. String literals, written in quotation marks, are used to display fixed text such as menu titles and options, giving the program structure. String concatenation, done using the plus sign (+), combines text with variables, allowing the program to print dynamic messages like \"You selected option: 3.\" Finally, variables and arithmetic expressions help store and display data, such as the total number of menu options, making the output both flexible and informative. Together, these formatting tools make the output organized, readable, and more user-friendly."
   ]
  },
  {
   "cell_type": "code",
   "execution_count": 2,
   "id": "8f17c270",
   "metadata": {
    "vscode": {
     "languageId": "java"
    }
   },
   "outputs": [
    {
     "name": "stdout",
     "output_type": "stream",
     "text": [
      "==== Main Menu ====\n",
      "1. Start Game\n",
      "2. Instructions\n",
      "3. Exit\n",
      "Choose an option: You selected option: 1\n",
      "There are 3 total options.\n"
     ]
    }
   ],
   "source": [
    "import java.util.Scanner;\n",
    "\n",
    "public class Menu {\n",
    "    public static void main(String[] args) {\n",
    "        Scanner sc = new Scanner(System.in);\n",
    "\n",
    "        System.out.println(\"==== Main Menu ====\");\n",
    "        System.out.println(\"1. Start Game\");\n",
    "        System.out.println(\"2. Instructions\");\n",
    "        System.out.println(\"3. Exit\");\n",
    "\n",
    "        System.out.print(\"Choose an option: \");\n",
    "        int choice = sc.nextInt();\n",
    "\n",
    "        System.out.println(\"You selected option: \" + choice);\n",
    "\n",
    "        int optionCount = 3;\n",
    "        System.out.println(\"There are \" + optionCount + \" total options.\");\n",
    "    }\n",
    "}\n",
    "\n",
    "Menu.main(new String[]{});"
   ]
  },
  {
   "cell_type": "code",
   "execution_count": 1,
   "id": "b1903f72",
   "metadata": {
    "vscode": {
     "languageId": "java"
    }
   },
   "outputs": [
    {
     "name": "stdout",
     "output_type": "stream",
     "text": [
      "AP CSA\n",
      "Rocks!\n",
      "C:\\Users\\Student\n",
      "==== Main Menu ====\n",
      "1. Start Game\n",
      "2. Instructions\n",
      "3. Exit\n",
      "4. Settings\n",
      "Choose an option: You selected option: 1\n",
      "There are 4 total options.\n",
      "Pi = 3.14\n"
     ]
    }
   ],
   "source": [
    "// Homework Hack 1\n",
    "\n",
    "// Predict Output\n",
    "System.out.print(\"AP \");\n",
    "System.out.println(\"CSA\");\n",
    "System.out.println(\"Rocks!\");\n",
    "// Output:\n",
    "// AP CSA\n",
    "// Rocks!\n",
    "\n",
    "// Fix the Bug\n",
    "System.out.println(\"C:\\\\Users\\\\Student\");\n",
    "// Corrected by using double backslashes \\\\ to print one backslash\n",
    "\n",
    "// Menu Hack (Add Settings Option)\n",
    "import java.util.Scanner;\n",
    "\n",
    "public class Menu {\n",
    "    public static void main(String[] args) {\n",
    "        Scanner sc = new Scanner(System.in);\n",
    "\n",
    "        System.out.println(\"==== Main Menu ====\");\n",
    "        System.out.println(\"1. Start Game\");\n",
    "        System.out.println(\"2. Instructions\");\n",
    "        System.out.println(\"3. Exit\");\n",
    "        System.out.println(\"4. Settings\"); // New option added\n",
    "\n",
    "        System.out.print(\"Choose an option: \");\n",
    "        int choice = sc.nextInt();\n",
    "\n",
    "        System.out.println(\"You selected option: \" + choice);\n",
    "\n",
    "        int optionCount = 4; // Updated count\n",
    "        System.out.println(\"There are \" + optionCount + \" total options.\");\n",
    "\n",
    "        // Challenge: print pi with 2 decimals\n",
    "        System.out.printf(\"Pi = %.2f\\n\", Math.PI);\n",
    "    }\n",
    "}\n",
    "\n",
    "// Run the program\n",
    "Menu.main(new String[]{});\n"
   ]
  },
  {
   "cell_type": "code",
   "execution_count": 3,
   "id": "92649c34",
   "metadata": {
    "vscode": {
     "languageId": "java"
    }
   },
   "outputs": [
    {
     "name": "stdout",
     "output_type": "stream",
     "text": [
      "==== Calculator Menu ====\n",
      "1. Add\n",
      "2. Subtract\n",
      "3. Multiply\n",
      "4. Divide\n",
      "Choose an option: Enter first number: Enter second number: Result: 15.0\n"
     ]
    }
   ],
   "source": [
    "//hw hack 2\n",
    "import java.util.Scanner;\n",
    "\n",
    "public class CalculatorMenu {\n",
    "    public static void main(String[] args) {\n",
    "        Scanner sc = new Scanner(System.in);\n",
    "\n",
    "        // Print the calculator menu\n",
    "        System.out.println(\"==== Calculator Menu ====\");\n",
    "        System.out.println(\"1. Add\");\n",
    "        System.out.println(\"2. Subtract\");\n",
    "        System.out.println(\"3. Multiply\");\n",
    "        System.out.println(\"4. Divide\");\n",
    "\n",
    "        // Ask the user to choose an option\n",
    "        System.out.print(\"Choose an option: \");\n",
    "        int choice = sc.nextInt();\n",
    "\n",
    "        // Ask for two numbers\n",
    "        System.out.print(\"Enter first number: \");\n",
    "        double num1 = sc.nextDouble();\n",
    "        System.out.print(\"Enter second number: \");\n",
    "        double num2 = sc.nextDouble();\n",
    "\n",
    "        double result = 0;\n",
    "\n",
    "        // Use arithmetic expressions to calculate the result\n",
    "        if (choice == 1) {\n",
    "            result = num1 + num2;\n",
    "        } else if (choice == 2) {\n",
    "            result = num1 - num2;\n",
    "        } else if (choice == 3) {\n",
    "            result = num1 * num2;\n",
    "        } else if (choice == 4) {\n",
    "            result = num1 / num2;\n",
    "        } else {\n",
    "            System.out.println(\"Invalid option selected.\");\n",
    "            return;\n",
    "        }\n",
    "\n",
    "        // Display the result\n",
    "        System.out.println(\"Result: \" + result);\n",
    "    }\n",
    "}\n",
    "\n",
    "// Run the program\n",
    "CalculatorMenu.main(new String[]{});\n"
   ]
  }
 ],
 "metadata": {
  "kernelspec": {
   "display_name": "Java",
   "language": "java",
   "name": "java"
  },
  "language_info": {
   "codemirror_mode": "java",
   "file_extension": ".jshell",
   "mimetype": "text/x-java-source",
   "name": "Java",
   "pygments_lexer": "java",
   "version": "17.0.16+8-Ubuntu-0ubuntu124.04.1"
  }
 },
 "nbformat": 4,
 "nbformat_minor": 5
}
