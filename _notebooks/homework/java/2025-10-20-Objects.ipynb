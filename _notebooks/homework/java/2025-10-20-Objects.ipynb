{
 "cells": [
  {
   "cell_type": "markdown",
   "id": "46921955",
   "metadata": {},
   "source": [
    "---\n",
    "layout: post\n",
    "title: Java Objects\n",
    "description: Homework on Java Objects Instances of Classes\n",
    "permalink: /csa/unit_01/1_12\n",
    "author: Saanvi Dogra\n",
    "---"
   ]
  },
  {
   "cell_type": "code",
   "execution_count": 14,
   "id": "20d493e2",
   "metadata": {},
   "outputs": [
    {
     "name": "stdout",
     "output_type": "stream",
     "text": [
      "Alo says woof!\n"
     ]
    }
   ],
   "source": [
    "// Example: simple class + object\n",
    "class Dog {\n",
    "    String name;\n",
    "    int age;\n",
    "    void bark() {\n",
    "        System.out.println(name + \" says woof!\");\n",
    "    }\n",
    "}\n",
    "\n",
    "class Main1 {\n",
    "    public static void main(String[] args) {\n",
    "        Dog myDog = new Dog();   // object created\n",
    "        myDog.name = \"Alo\";\n",
    "        myDog.age = 3;\n",
    "        myDog.bark();\n",
    "    }\n",
    "}\n",
    "Main1.main(null);"
   ]
  },
  {
   "cell_type": "code",
   "execution_count": 15,
   "id": "e3e4a94b",
   "metadata": {},
   "outputs": [
    {
     "name": "stdout",
     "output_type": "stream",
     "text": [
      "Kairo\n"
     ]
    }
   ],
   "source": [
    "// Example: references point to the same object\n",
    "class Main2 {\n",
    "    public static void main(String[] args) {\n",
    "        Dog d1 = new Dog();\n",
    "        d1.name = \"Kai\";\n",
    "        \n",
    "        Dog d2 = d1;           // both refer to the same Dog\n",
    "        d2.name = \"Kairo\";     // changes seen via d1 too\n",
    "        \n",
    "        System.out.println(d1.name); // prints Kairo\n",
    "    }\n",
    "}\n",
    "Main2.main(null);\n"
   ]
  },
  {
   "cell_type": "code",
   "execution_count": 10,
   "id": "dc8a92c7",
   "metadata": {},
   "outputs": [
    {
     "name": "stdout",
     "output_type": "stream",
     "text": [
      "Title: The Great Gatsby, Pages: 180\n"
     ]
    }
   ],
   "source": [
    "//Popcorn Hack\n",
    "class Book {\n",
    "    String title;\n",
    "    int pages;\n",
    "    \n",
    "    void printInfo() {\n",
    "        System.out.println(\"Title: \" + title + \", Pages: \" + pages);\n",
    "    }\n",
    "}\n",
    "\n",
    "class MainPopcorn {\n",
    "    public static void main(String[] args) {\n",
    "        Book myBook = new Book();\n",
    "        myBook.title = \"The Great Gatsby\";\n",
    "        myBook.pages = 180;\n",
    "        myBook.printInfo();\n",
    "    }\n",
    "}\n",
    "\n",
    "// 👇 Line that actually runs the class inside the same cell\n",
    "MainPopcorn.main(null);\n"
   ]
  },
  {
   "cell_type": "markdown",
   "id": "4d0be4e4",
   "metadata": {},
   "source": [
    "A class is a blueprint for creating objects, and an object is an instance of that class.\n",
    "\n",
    "It stores the memory address (reference) of an object, not the actual object itself.\n",
    "\n",
    "toString()"
   ]
  },
  {
   "cell_type": "code",
   "execution_count": 4,
   "id": "3002a90c",
   "metadata": {},
   "outputs": [
    {
     "name": "stdout",
     "output_type": "stream",
     "text": [
      "Name: Ava, Grade: 10, Pets: 2, Siblings: 1, Hobby: Painting\n",
      "Name: Liam, Grade: 11, Pets: 0, Siblings: 2, Hobby: Coding\n",
      "Name: Sophia, Grade: 9, Pets: 1, Siblings: 3, Hobby: Soccer\n"
     ]
    }
   ],
   "source": [
    "//Homework 1\n",
    "public class Student {\n",
    "    String name;\n",
    "    int grade;\n",
    "    int pets;\n",
    "    int siblings;\n",
    "    String hobby;  // your own extra instance variable\n",
    "\n",
    "    public static void main(String[] args) {\n",
    "        // Create three student objects\n",
    "        Student s1 = new Student();\n",
    "        s1.name = \"Ava\";\n",
    "        s1.grade = 10;\n",
    "        s1.pets = 2;\n",
    "        s1.siblings = 1;\n",
    "        s1.hobby = \"Painting\";\n",
    "\n",
    "        Student s2 = new Student();\n",
    "        s2.name = \"Liam\";\n",
    "        s2.grade = 11;\n",
    "        s2.pets = 0;\n",
    "        s2.siblings = 2;\n",
    "        s2.hobby = \"Coding\";\n",
    "\n",
    "        Student s3 = new Student();\n",
    "        s3.name = \"Sophia\";\n",
    "        s3.grade = 9;\n",
    "        s3.pets = 1;\n",
    "        s3.siblings = 3;\n",
    "        s3.hobby = \"Soccer\";\n",
    "\n",
    "        // Print out each student's info\n",
    "        System.out.println(\"Name: \" + s1.name + \", Grade: \" + s1.grade + \", Pets: \" + s1.pets + \", Siblings: \" + s1.siblings + \", Hobby: \" + s1.hobby);\n",
    "        System.out.println(\"Name: \" + s2.name + \", Grade: \" + s2.grade + \", Pets: \" + s2.pets + \", Siblings: \" + s2.siblings + \", Hobby: \" + s2.hobby);\n",
    "        System.out.println(\"Name: \" + s3.name + \", Grade: \" + s3.grade + \", Pets: \" + s3.pets + \", Siblings: \" + s3.siblings + \", Hobby: \" + s3.hobby);\n",
    "    }\n",
    "}\n",
    "Student.main(null);"
   ]
  },
  {
   "cell_type": "code",
   "execution_count": 3,
   "id": "dc21abbe",
   "metadata": {},
   "outputs": [
    {
     "name": "stdout",
     "output_type": "stream",
     "text": [
      "Nickname reference:\n",
      "Name: Liam, Grade: 11, Pets: 0, Siblings: 2, Hobby: Coding\n"
     ]
    }
   ],
   "source": [
    "//Homework 2\n",
    "class MainReference {\n",
    "    public static void main(String[] args) {\n",
    "        // Create the same student as before\n",
    "        Student s2 = new Student();\n",
    "        s2.name = \"Liam\";\n",
    "        s2.grade = 11;\n",
    "        s2.pets = 0;\n",
    "        s2.siblings = 2;\n",
    "        s2.hobby = \"Coding\";\n",
    "\n",
    "        // Create a reference variable (nickname) that points to s2\n",
    "        Student nickname = s2;\n",
    "\n",
    "        System.out.println(\"Nickname reference:\");\n",
    "        nickname.printInfo();\n",
    "    }\n",
    "}\n",
    "MainReference.main(null);"
   ]
  }
 ],
 "metadata": {
  "kernelspec": {
   "display_name": "Java",
   "language": "java",
   "name": "java"
  },
  "language_info": {
   "codemirror_mode": "java",
   "file_extension": ".jshell",
   "mimetype": "text/x-java-source",
   "name": "java",
   "pygments_lexer": "java",
   "version": "17.0.16+8-Ubuntu-0ubuntu124.04.1"
  }
 },
 "nbformat": 4,
 "nbformat_minor": 5
}
