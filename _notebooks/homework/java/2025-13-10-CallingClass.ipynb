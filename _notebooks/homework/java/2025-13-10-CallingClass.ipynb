{
 "cells": [
  {
   "cell_type": "markdown",
   "id": "3d033633",
   "metadata": {},
   "source": [
    "---\n",
    "layout: post\n",
    "title: Java Calling Class\n",
    "description: Homework on Java Calling Class\n",
    "permalink: /csa/unit_01/1_10\n",
    "author: Saanvi Dogra\n",
    "---"
   ]
  },
  {
   "cell_type": "code",
   "execution_count": 10,
   "id": "ff49fa75",
   "metadata": {
    "vscode": {
     "languageId": "java"
    }
   },
   "outputs": [
    {
     "name": "stdout",
     "output_type": "stream",
     "text": [
      "Sup bro?\n"
     ]
    }
   ],
   "source": [
    "class Bro {\n",
    "    String name;\n",
    "    static String catchphrase = \"Sup bro?\";\n",
    "\n",
    "    public Bro(String name) {\n",
    "        this.name = name;\n",
    "    }\n",
    "\n",
    "    public void sayHi() {\n",
    "        System.out.println(\"Hey, I'm \" + name);\n",
    "    }\n",
    "\n",
    "    public static void sayCatchphrase() {\n",
    "        System.out.println(catchphrase);\n",
    "    }\n",
    "\n",
    "    public static void main(String[] args) {\n",
    "        System.out.println(\"Output:\");\n",
    "\n",
    "        // Static method call\n",
    "        System.out.print(\"sayCatchphrase() -> \");\n",
    "        sayCatchphrase();\n",
    "\n",
    "        // Create an object\n",
    "        Bro alex = new Bro(\"Alex\");\n",
    "\n",
    "        // Instance method call\n",
    "        System.out.print(\"alex.sayHi() -> \");\n",
    "        alex.sayHi();\n",
    "\n",
    "        // Static method call through object (works but not best practice)\n",
    "        System.out.print(\"alex.sayCatchphrase() -> \");\n",
    "        alex.sayCatchphrase();\n",
    "    }\n",
    "}\n",
    "Bro.sayCatchphrase();\n"
   ]
  },
  {
   "cell_type": "code",
   "execution_count": 12,
   "id": "a4503abb",
   "metadata": {
    "vscode": {
     "languageId": "java"
    }
   },
   "outputs": [
    {
     "name": "stdout",
     "output_type": "stream",
     "text": [
      "New interest rate set to 7.000000000000001% for all accounts.\n"
     ]
    }
   ],
   "source": [
    "//Bank Account\n",
    "class BankAccount {\n",
    "    String owner;\n",
    "    double balance;\n",
    "    static double interestRate = 0.05; // shared by all accounts\n",
    "\n",
    "    public BankAccount(String owner, double balance) {\n",
    "        this.owner = owner;\n",
    "        this.balance = balance;\n",
    "    }\n",
    "\n",
    "    // Instance method → affects a single account\n",
    "    public void deposit(double amount) {\n",
    "        balance += amount;\n",
    "        System.out.println(owner + \" deposited $\" + amount + \". New balance: $\" + balance);\n",
    "    }\n",
    "\n",
    "    // Instance method → shows this account’s balance\n",
    "    public void showBalance() {\n",
    "        System.out.println(owner + \"'s current balance: $\" + balance);\n",
    "    }\n",
    "\n",
    "    // Static method → shared across all accounts\n",
    "    public static void setInterestRate(double newRate) {\n",
    "        interestRate = newRate;\n",
    "        System.out.println(\"New interest rate set to \" + (interestRate * 100) + \"% for all accounts.\");\n",
    "    }\n",
    "\n",
    "    public static void main(String[] args) {\n",
    "        BankAccount alex = new BankAccount(\"Alex\", 500);\n",
    "        BankAccount brooke = new BankAccount(\"Brooke\", 1000);\n",
    "\n",
    "        alex.deposit(200);\n",
    "        brooke.deposit(300);\n",
    "\n",
    "        alex.showBalance();\n",
    "        brooke.showBalance();\n",
    "\n",
    "        BankAccount.setInterestRate(0.07); // static call through the class\n",
    "    }\n",
    "}\n",
    "BankAccount.setInterestRate(0.07);"
   ]
  },
  {
   "cell_type": "code",
   "execution_count": 18,
   "id": "00cc199c",
   "metadata": {
    "vscode": {
     "languageId": "java"
    }
   },
   "outputs": [
    {
     "name": "stdout",
     "output_type": "stream",
     "text": [
      "Initial Status:\n",
      "Titan | Power: 25 | Health: 100\n",
      "Inferno | Power: 20 | Health: 100\n",
      "\n",
      "Titan is the stronger fighter!\n",
      "\n",
      "Battle Start: Titan vs Inferno\n",
      "Titan attacks Inferno with power 25!\n",
      "Inferno attacks Titan with power 20!\n",
      "Titan attacks Inferno with power 25!\n",
      "Inferno attacks Titan with power 20!\n",
      "Titan attacks Inferno with power 25!\n",
      "Inferno attacks Titan with power 20!\n",
      "Titan attacks Inferno with power 25!\n",
      "\n",
      "Battle Over after 10.5 minutes!\n",
      "Titan wins!\n",
      "\n",
      "Final Status:\n",
      "Titan | Power: 25 | Health: 40\n",
      "Inferno | Power: 20 | Health: 0\n"
     ]
    }
   ],
   "source": [
    "//Homework\n",
    "public class UltimateBattle {\n",
    "\n",
    "    public static void main(String[] args) {\n",
    "        // Create two Robot objects\n",
    "        Robot r1 = new Robot(\"Titan\", 25, 100);\n",
    "        Robot r2 = new Robot(\"Inferno\", 20, 100);\n",
    "\n",
    "        // Print initial status\n",
    "        System.out.println(\"Initial Status:\");\n",
    "        r1.printStatus();\n",
    "        r2.printStatus();\n",
    "\n",
    "        // Compare fighters\n",
    "        int stronger = Robot.strongerFighter(r1, r2);\n",
    "        if (stronger == 1)\n",
    "            System.out.println(\"\\n\" + r1.name + \" is the stronger fighter!\");\n",
    "        else if (stronger == 2)\n",
    "            System.out.println(\"\\n\" + r2.name + \" is the stronger fighter!\");\n",
    "        else\n",
    "            System.out.println(\"\\nBoth robots are equally strong!\");\n",
    "\n",
    "        // Begin the battle\n",
    "        Robot.beginBattle(r1, r2);\n",
    "\n",
    "        // Print final status\n",
    "        System.out.println(\"\\nFinal Status:\");\n",
    "        r1.printStatus();\n",
    "        r2.printStatus();\n",
    "    }\n",
    "}\n",
    "\n",
    "// Fighter class\n",
    "class Robot {\n",
    "    String name;\n",
    "    int power;\n",
    "    int health;\n",
    "    static double fightDuration = 0;\n",
    "\n",
    "    // Constructor\n",
    "    public Robot(String name, int power, int health) {\n",
    "        this.name = name;\n",
    "        this.power = power;\n",
    "        this.health = health;\n",
    "    }\n",
    "\n",
    "    // Attack another robot\n",
    "    public void attack(Robot opponent) {\n",
    "        System.out.println(name + \" attacks \" + opponent.name + \" with power \" + power + \"!\");\n",
    "        opponent.health -= power;\n",
    "        if (opponent.health < 0) opponent.health = 0;\n",
    "        fightDuration += 1.5;\n",
    "    }\n",
    "\n",
    "    // Print current status\n",
    "    public void printStatus() {\n",
    "        System.out.println(name + \" | Power: \" + power + \" | Health: \" + health);\n",
    "    }\n",
    "\n",
    "    // Compare which robot is stronger\n",
    "    public static int strongerFighter(Robot r1, Robot r2) {\n",
    "        if (r1.power > r2.power) return 1;\n",
    "        else if (r2.power > r1.power) return 2;\n",
    "        else return 0;\n",
    "    }\n",
    "\n",
    "    // Begin the battle\n",
    "    public static void beginBattle(Robot r1, Robot r2) {\n",
    "        System.out.println(\"\\nBattle Start: \" + r1.name + \" vs \" + r2.name);\n",
    "        while (r1.health > 0 && r2.health > 0) {\n",
    "            r1.attack(r2);\n",
    "            if (r2.health <= 0) break;\n",
    "            r2.attack(r1);\n",
    "        }\n",
    "        System.out.println(\"\\nBattle Over after \" + fightDuration + \" minutes!\");\n",
    "        if (r1.health > 0) System.out.println(r1.name + \" wins!\");\n",
    "        else System.out.println(r2.name + \" wins!\");\n",
    "    }\n",
    "}\n",
    "\n",
    "UltimateBattle.main(null);"
   ]
  }
 ],
 "metadata": {
  "kernelspec": {
   "display_name": "Java",
   "language": "java",
   "name": "java"
  },
  "language_info": {
   "codemirror_mode": "java",
   "file_extension": ".jshell",
   "mimetype": "text/x-java-source",
   "name": "Java",
   "pygments_lexer": "java",
   "version": "17.0.16+8-Ubuntu-0ubuntu124.04.1"
  }
 },
 "nbformat": 4,
 "nbformat_minor": 5
}
