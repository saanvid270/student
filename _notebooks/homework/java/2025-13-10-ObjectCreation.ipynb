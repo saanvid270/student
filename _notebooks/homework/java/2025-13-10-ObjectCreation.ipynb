{
 "cells": [
  {
   "cell_type": "markdown",
   "id": "16733586",
   "metadata": {},
   "source": [
    "---\n",
    "layout: post\n",
    "title: Java Object Creation\n",
    "description: Homework on Java Object Creation\n",
    "permalink: /csa/unit_01/1_13\n",
    "author: Saanvi Dogra\n",
    "---"
   ]
  },
  {
   "cell_type": "code",
   "execution_count": 1,
   "id": "884c2801",
   "metadata": {
    "vscode": {
     "languageId": "java"
    }
   },
   "outputs": [
    {
     "name": "stdout",
     "output_type": "stream",
     "text": [
      "Primitives (Stack):\n",
      "a = 10\n",
      "b = 20\n",
      "\n",
      "Arrays (Heap):\n",
      "array1[0] = 99\n",
      "array2[0] = 99\n"
     ]
    }
   ],
   "source": [
    "public class MemoryDemo {\n",
    "    public static void main(String[] args) {\n",
    "        // Stack variables\n",
    "        int a = 10;\n",
    "        int b = a;  // Copy of value\n",
    "        b = 20;     // Changing b doesn't affect a\n",
    "        \n",
    "        System.out.println(\"Primitives (Stack):\");\n",
    "        System.out.println(\"a = \" + a);  // Still 10\n",
    "        System.out.println(\"b = \" + b);  // Now it's 20\n",
    "        \n",
    "        // Heap variables\n",
    "        int[] array1 = {1, 2, 3};\n",
    "        int[] array2 = array1;  // Copy of reference (address)\n",
    "        array2[0] = 99;         // Changing array2 DOES affect array1\n",
    "        \n",
    "        System.out.println(\"\\nArrays (Heap):\");\n",
    "        System.out.println(\"array1[0] = \" + array1[0]);  // Now it's 99!\n",
    "        System.out.println(\"array2[0] = \" + array2[0]);  // Also 99\n",
    "    }\n",
    "}\n",
    "MemoryDemo.main(null);"
   ]
  },
  {
   "cell_type": "markdown",
   "id": "8fda9e5d",
   "metadata": {},
   "source": [
    "When you assign a primitive variable like b = a, a copy of the value is created. This means that b and a are stored separately on the stack, so changing b does not affect a. Each variable holds its own independent value, which is why modifying one has no impact on the other.\n",
    "\n",
    "Arrays, on the other hand, are reference types. When you assign array2 = array1, both variables point to the same object on the heap. This means that any change made through array2 actually modifies the underlying array in memory, and array1 reflects those changes because it references the same object.\n",
    "\n",
    "In terms of memory, primitive values and the references themselves are stored on the stack, while objects like arrays are stored on the heap. The stack contains the variables a, b, array1, and array2, whereas the actual array object resides on the heap. This distinction explains why changing a primitive copy does not affect the original, but modifying an object through a reference does."
   ]
  },
  {
   "cell_type": "code",
   "execution_count": 2,
   "id": "c18097cd",
   "metadata": {
    "vscode": {
     "languageId": "java"
    }
   },
   "outputs": [
    {
     "name": "stdout",
     "output_type": "stream",
     "text": [
      "Before method: n = 5\n",
      "Inside method: n = 15\n",
      "After method: n = 5\n"
     ]
    }
   ],
   "source": [
    "//Example\n",
    "public class IntByValue {\n",
    "\n",
    "    // Method tries to change the number\n",
    "    public static void changeInt(int n) {\n",
    "        n = n + 10; // only changes the copy\n",
    "        System.out.println(\"Inside method: n = \" + n);\n",
    "    }\n",
    "\n",
    "    public static void main(String[] args) {\n",
    "        int n = 5; // original number\n",
    "        System.out.println(\"Before method: n = \" + n);\n",
    "\n",
    "        changeInt(n); // pass copy of n\n",
    "        System.out.println(\"After method: n = \" + n); // still 5\n",
    "    }\n",
    "}\n",
    "\n",
    "// Run main manually\n",
    "IntByValue.main(null);"
   ]
  },
  {
   "cell_type": "code",
   "execution_count": 3,
   "id": "736ad5eb",
   "metadata": {
    "vscode": {
     "languageId": "java"
    }
   },
   "outputs": [
    {
     "name": "stdout",
     "output_type": "stream",
     "text": [
      "Before: 5\n",
      "After: 15\n"
     ]
    }
   ],
   "source": [
    "// A simple class to hold a number\n",
    "class NumberHolder {\n",
    "    int value;\n",
    "\n",
    "    NumberHolder(int value) {\n",
    "        this.value = value;\n",
    "    }\n",
    "}\n",
    "\n",
    "public class PassByReferenceDemo {\n",
    "    // Method that changes the object's value\n",
    "    public static void changeValue(NumberHolder n) {\n",
    "        n.value = n.value + 10; // modify the object\n",
    "    }\n",
    "\n",
    "    public static void main(String[] args) {\n",
    "        NumberHolder myNumber = new NumberHolder(5); // create object\n",
    "        System.out.println(\"Before: \" + myNumber.value); // 5\n",
    "\n",
    "        changeValue(myNumber); // pass object reference\n",
    "        System.out.println(\"After: \" + myNumber.value); // 15\n",
    "    }\n",
    "}\n",
    "PassByReferenceDemo.main(null);"
   ]
  },
  {
   "cell_type": "code",
   "execution_count": 5,
   "id": "cadbed2e",
   "metadata": {
    "vscode": {
     "languageId": "java"
    }
   },
   "outputs": [
    {
     "name": "stdout",
     "output_type": "stream",
     "text": [
      "Before birthday: John is 20\n",
      "Inside method: John is now 21\n",
      "After birthday: John is 21\n",
      "\n",
      "Before reassign: John is 21\n",
      "Inside reassign: New Person is 99\n",
      "After reassign: John is 21\n"
     ]
    }
   ],
   "source": [
    "public class PersonDemo {\n",
    "    static class Person {\n",
    "        String name;\n",
    "        int age;\n",
    "        \n",
    "        Person(String name, int age) {\n",
    "            this.name = name;\n",
    "            this.age = age;\n",
    "        }\n",
    "    }\n",
    "    \n",
    "    public static void haveBirthday(Person p) {\n",
    "        p.age = p.age + 1;  // Modifying object content\n",
    "        System.out.println(\"Inside method: \" + p.name + \" is now \" + p.age);\n",
    "    }\n",
    "    \n",
    "    public static void reassignPerson(Person p) {\n",
    "        p = new Person(\"New Person\", 99);  // Reassigning reference\n",
    "        System.out.println(\"Inside reassign: \" + p.name + \" is \" + p.age);\n",
    "    }\n",
    "    \n",
    "    public static void main(String[] args) {\n",
    "        Person john = new Person(\"John\", 20);\n",
    "        \n",
    "        System.out.println(\"Before birthday: \" + john.name + \" is \" + john.age);\n",
    "        haveBirthday(john);\n",
    "        System.out.println(\"After birthday: \" + john.name + \" is \" + john.age);\n",
    "        \n",
    "        System.out.println(\"\\nBefore reassign: \" + john.name + \" is \" + john.age);\n",
    "        reassignPerson(john);\n",
    "        System.out.println(\"After reassign: \" + john.name + \" is \" + john.age);\n",
    "    }\n",
    "}\n",
    "PersonDemo.main(null);"
   ]
  },
  {
   "cell_type": "markdown",
   "id": "5845f556",
   "metadata": {},
   "source": [
    "After haveBirthday(john) is called, John’s age becomes 21. This is because the method haveBirthday receives a reference to the same Person object on the heap. Modifying the age field through this reference changes the actual object, so the change is reflected outside the method as well.\n",
    "\n",
    "After reassignPerson(john) is called, John’s name remains “John” and his age remains 21. In this method, the parameter p is reassigned to a new Person object, but this reassignment only affects the local copy of the reference inside the method. The original john variable in main still points to the original object, so no changes are seen outside the method.\n",
    "\n",
    "The difference between modifying an object’s contents and reassigning a reference is key. Modifying the contents (like p.age = p.age + 1) changes the actual object on the heap, so all references to that object see the update. Reassigning the reference (like p = new Person(...)) only changes what the local reference points to; it does not affect the original reference outside the method."
   ]
  },
  {
   "cell_type": "code",
   "execution_count": 6,
   "id": "4dd3d793",
   "metadata": {
    "vscode": {
     "languageId": "java"
    }
   },
   "outputs": [
    {
     "name": "stdout",
     "output_type": "stream",
     "text": [
      "Name: Nora, Grade: 111, GPA: 5.0\n",
      "Name: Soni, Grade: 11, GPA: 1.0\n"
     ]
    }
   ],
   "source": [
    "// Basics:\n",
    "public class Student {\n",
    "    private String name;\n",
    "    private int grade;\n",
    "    private double gpa;\n",
    "    \n",
    "    // Default constructor\n",
    "    public Student() {\n",
    "        this.name = \"Nora\";\n",
    "        this.grade = 111;\n",
    "        this.gpa = 5.0;\n",
    "    }\n",
    "    \n",
    "    // Parameterized constructor\n",
    "    public Student(String name, int grade, double gpa) {\n",
    "        this.name = name;\n",
    "        this.grade = grade;\n",
    "        this.gpa = gpa;\n",
    "    }\n",
    "    \n",
    "    public void display() {\n",
    "        System.out.println(\"Name: \" + name + \", Grade: \" + grade + \", GPA: \" + gpa);\n",
    "    }\n",
    "    \n",
    "    public static void main(String[] args) {\n",
    "        Student s1 = new Student();\n",
    "        Student s2 = new Student(\"Soni\", 11, 1.0);\n",
    "        \n",
    "        s1.display();\n",
    "        s2.display();\n",
    "    }\n",
    "}\n",
    "\n",
    "Student.main(null);"
   ]
  },
  {
   "cell_type": "code",
   "execution_count": 7,
   "id": "bdf7651b",
   "metadata": {
    "vscode": {
     "languageId": "java"
    }
   },
   "outputs": [
    {
     "name": "stdout",
     "output_type": "stream",
     "text": [
      "Car brand: Tesla, Year: 2024\n",
      "Car brand: Ford, Year: 2018\n"
     ]
    }
   ],
   "source": [
    "// Homework Hack #1: Object Creation Practice\n",
    "public class ObjectCreation {\n",
    "    public static void main(String[] args) {\n",
    "        // 1. Create two Car objects using 'new'\n",
    "        Car car1 = new Car(\"Tesla\", 2024);\n",
    "        Car car2 = new Car(\"Ford\", 2018);\n",
    "\n",
    "        // 2. Print each car's info\n",
    "        System.out.println(car1);\n",
    "        System.out.println(car2);\n",
    "    }\n",
    "}\n",
    "\n",
    "class Car {\n",
    "    // 1. Declare variables: brand, year\n",
    "    String brand;\n",
    "    int year;\n",
    "\n",
    "    // 2. Create a constructor to set those variables\n",
    "    public Car(String brand, int year) {\n",
    "        this.brand = brand;\n",
    "        this.year = year;\n",
    "    }\n",
    "\n",
    "    // 3. Add a method or toString() to display car info\n",
    "    @Override\n",
    "    public String toString() {\n",
    "        return \"Car brand: \" + brand + \", Year: \" + year;\n",
    "    }\n",
    "}\n",
    "ObjectCreation.main(null);"
   ]
  },
  {
   "cell_type": "code",
   "execution_count": 8,
   "id": "c70d93db",
   "metadata": {
    "vscode": {
     "languageId": "java"
    }
   },
   "outputs": [
    {
     "name": "stdout",
     "output_type": "stream",
     "text": [
      "Primitives:\n",
      "pages: 500\n",
      "pagesCopy: 300\n",
      "\n",
      "Objects:\n",
      "b1: Advanced Java\n",
      "b2: Advanced Java\n"
     ]
    }
   ],
   "source": [
    "// Homework Hack #2: Heap vs Stack Storage Demo\n",
    "public class HeapVsStack {\n",
    "    public static void main(String[] args) {\n",
    "        // 1. Create a primitive variable\n",
    "        int pages = 300;\n",
    "\n",
    "        // 2. Create another primitive variable that copies it\n",
    "        int pagesCopy = pages;\n",
    "\n",
    "        // 3. Create a Book object\n",
    "        Book b1 = new Book(\"Java Basics\");\n",
    "\n",
    "        // 4. Create another Book reference\n",
    "        Book b2 = b1;\n",
    "\n",
    "        // 5. Change the original primitive and the Book title\n",
    "        pages = 500;            // only changes 'pages'\n",
    "        b1.title = \"Advanced Java\"; // changes the object on the heap\n",
    "\n",
    "        // 6. Print both sets of values\n",
    "        System.out.println(\"Primitives:\");\n",
    "        System.out.println(\"pages: \" + pages);           // 500\n",
    "        System.out.println(\"pagesCopy: \" + pagesCopy);   // 300\n",
    "\n",
    "        System.out.println(\"\\nObjects:\");\n",
    "        System.out.println(\"b1: \" + b1); // Advanced Java\n",
    "        System.out.println(\"b2: \" + b2); // Advanced Java (same object)\n",
    "    }\n",
    "}\n",
    "\n",
    "class Book {\n",
    "    // 1. Declare variable: String title\n",
    "    String title;\n",
    "\n",
    "    // 2. Constructor\n",
    "    public Book(String title) {\n",
    "        this.title = title;\n",
    "    }\n",
    "\n",
    "    // 3. toString() to display title\n",
    "    @Override\n",
    "    public String toString() {\n",
    "        return title;\n",
    "    }\n",
    "}\n",
    "HeapVsStack.main(null);"
   ]
  }
 ],
 "metadata": {
  "kernelspec": {
   "display_name": "Java",
   "language": "java",
   "name": "java"
  },
  "language_info": {
   "codemirror_mode": "java",
   "file_extension": ".jshell",
   "mimetype": "text/x-java-source",
   "name": "Java",
   "pygments_lexer": "java",
   "version": "17.0.16+8-Ubuntu-0ubuntu124.04.1"
  }
 },
 "nbformat": 4,
 "nbformat_minor": 5
}
