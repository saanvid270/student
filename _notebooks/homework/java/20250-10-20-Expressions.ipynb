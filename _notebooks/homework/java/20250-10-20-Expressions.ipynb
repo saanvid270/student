{
 "cells": [
  {
   "cell_type": "markdown",
   "id": "9cd1641d",
   "metadata": {},
   "source": [
    "---\n",
    "layout: post\n",
    "title: Java Expression and Output\n",
    "description: Homework on Java Expression and Output\n",
    "permalink: /csa/unit_01/1_3\n",
    "author: Saanvi Dogra\n",
    "---"
   ]
  },
  {
   "cell_type": "code",
   "execution_count": 2,
   "id": "dd11323c",
   "metadata": {
    "vscode": {
     "languageId": "java"
    }
   },
   "outputs": [
    {
     "name": "stdout",
     "output_type": "stream",
     "text": [
      "10\n",
      "4\n",
      "21\n",
      "2\n",
      "1\n",
      "2\n",
      "2.3333333333333335\n",
      "2.3333333333333335\n",
      "14\n",
      "20\n",
      "Result: 53\n",
      "Result: 8\n"
     ]
    }
   ],
   "source": [
    "System.out.println(7 + 3);   // 10\n",
    "System.out.println(7 - 3);   // 4\n",
    "System.out.println(7 * 3);   // 21\n",
    "System.out.println(7 / 3);   // 2  (integer division)\n",
    "System.out.println(7 % 3);   // 1  (remainder)\n",
    "\n",
    "System.out.println(7 / 3);     // 2\n",
    "System.out.println(7.0 / 3);   // 2.333333...\n",
    "System.out.println(7 / 3.0);   // 2.333333...\n",
    "\n",
    "\n",
    "System.out.println(2 + 3 * 4);   // 14\n",
    "System.out.println((2 + 3) * 4); // 20\n",
    "\n",
    "\n",
    "System.out.println(\"Result: \" + 5 + 3);   // Result: 53\n",
    "System.out.println(\"Result: \" + (5 + 3)); // Result: 8\n",
    "\n"
   ]
  },
  {
   "cell_type": "code",
   "execution_count": 4,
   "id": "06cd2ac2",
   "metadata": {
    "vscode": {
     "languageId": "java"
    }
   },
   "outputs": [
    {
     "name": "stdout",
     "output_type": "stream",
     "text": [
      "Sum = 10.0\n",
      "Line1\n",
      "Line2\n",
      "Col1\tCol2\tCol3\n",
      "Value: 7\n",
      "Integer: 7\n",
      "Float: 3.00\n",
      "String: Hello\n",
      "4\n",
      "4.0\n",
      "a = 7, b = 3.00\n",
      "Sum = 10.00, Difference = 4.00, Product = 21.00, Division = 2.33\n"
     ]
    },
    {
     "data": {
      "text/plain": [
       "java.io.PrintStream@3578f9b0"
      ]
     },
     "execution_count": 4,
     "metadata": {},
     "output_type": "execute_result"
    }
   ],
   "source": [
    "//Popcorn Hack 1\n",
    "int a = 7;\n",
    "double b = 3.0;\n",
    "\n",
    "// 1. + (String concatenation)\n",
    "// Combines strings or strings with numbers\n",
    "// Example:\n",
    "System.out.println(\"Sum = \" + (a + b));\n",
    "\n",
    "// 2. \\n (Newline character)\n",
    "// Moves output to the next line\n",
    "System.out.println(\"Line1\\nLine2\");\n",
    "\n",
    "// 3. \\t (Tab character)\n",
    "// Adds horizontal spacing for alignment\n",
    "System.out.println(\"Col1\\tCol2\\tCol3\");\n",
    "\n",
    "// 4. printf()\n",
    "// Formats output using placeholders\n",
    "// Example:\n",
    "System.out.printf(\"Value: %d\\n\", a);\n",
    "\n",
    "// 5. %d\n",
    "// Placeholder for integers in printf()\n",
    "System.out.printf(\"Integer: %d\\n\", a);\n",
    "\n",
    "// 6. %f\n",
    "// Placeholder for floating-point numbers in printf()\n",
    "// Can specify precision: %.2f for 2 decimal places\n",
    "System.out.printf(\"Float: %.2f\\n\", b);\n",
    "\n",
    "// 7. %s\n",
    "// Placeholder for strings in printf()\n",
    "System.out.printf(\"String: %s\\n\", \"Hello\");\n",
    "\n",
    "// 8. Math.round()\n",
    "// Rounds a floating-point number to the nearest integer\n",
    "System.out.println(Math.round(3.6)); // Output: 4\n",
    "\n",
    "// 9. Math.floor()\n",
    "// Rounds up to the nearest integer\n",
    "System.out.println(Math.ceil(3.6)); // Output: 4.0\n",
    "\n",
    "System.out.printf(\"a = %d, b = %.2f\\nSum = %.2f, Difference = %.2f, Product = %.2f, Division = %.2f\\n\", a, b, (a+b), (a-b), (a*b), (a/b));\n"
   ]
  },
  {
   "cell_type": "markdown",
   "id": "0ce0993f",
   "metadata": {},
   "source": [
    "Popcorn Hack 2\n",
    "The formatting tools used in the Menu.java program include System.out.println(), System.out.print(), string literals, string concatenation, and variables. The System.out.println() command prints text and moves to a new line, which makes the menu options appear neatly one under another for easy reading. The System.out.print() command prints text without moving to a new line, keeping the input prompt (\"Choose an option:\") on the same line for a cleaner user experience. String literals, written in quotation marks, are used to display fixed text such as menu titles and options, giving the program structure. String concatenation, done using the plus sign (+), combines text with variables, allowing the program to print dynamic messages like \"You selected option: 3.\" Finally, variables and arithmetic expressions help store and display data, such as the total number of menu options, making the output both flexible and informative. Together, these formatting tools make the output organized, readable, and more user-friendly."
   ]
  }
 ],
 "metadata": {
  "kernelspec": {
   "display_name": "Java",
   "language": "java",
   "name": "java"
  },
  "language_info": {
   "codemirror_mode": "java",
   "file_extension": ".jshell",
   "mimetype": "text/x-java-source",
   "name": "Java",
   "pygments_lexer": "java",
   "version": "17.0.16+8-Ubuntu-0ubuntu124.04.1"
  }
 },
 "nbformat": 4,
 "nbformat_minor": 5
}
